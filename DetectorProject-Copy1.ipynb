{
 "cells": [
  {
   "cell_type": "markdown",
   "metadata": {},
   "source": [
    "Read in all libraries"
   ]
  },
  {
   "cell_type": "code",
   "execution_count": 1,
   "metadata": {},
   "outputs": [],
   "source": [
    "#all imports\n",
    "\n",
    "import numpy as np\n",
    "import random\n",
    "%matplotlib inline\n",
    "import matplotlib.pyplot as plt\n",
    "import matplotlib.image as mpimg\n",
    "import math\n",
    "import scipy\n",
    "import scipy.stats as stats\n",
    "import scipy.integrate\n",
    "from scipy.stats import norm\n",
    "from scipy.optimize import curve_fit\n",
    "import scipy.stats as scs\n",
    "from astropy.modeling import models, fitting"
   ]
  },
  {
   "cell_type": "markdown",
   "metadata": {},
   "source": [
    "Define all required functions.\n",
    "Note that I changed the rand_num_gen so that it will never return the first or last pixel"
   ]
  },
  {
   "cell_type": "code",
   "execution_count": 2,
   "metadata": {},
   "outputs": [],
   "source": [
    "def rand_num_gen():\n",
    "    #border: ln[3] was the original random_num_gen() \n",
    "    #border is the number of desired pixels/ number of required surrounding pixels based on electron cloud/ pixel length ratio\n",
    "    photon_x = random.uniform(border*pix_L, ((num_pix_x - border) * pix_L)) #microns\n",
    "    photon_y = random.uniform(border*pix_L, ((num_pix_x - border) * pix_L)) #microns\n",
    "    return photon_x, photon_y"
   ]
  },
  {
   "cell_type": "code",
   "execution_count": 3,
   "metadata": {},
   "outputs": [],
   "source": [
    "def find_closest_pix(photon_x, photon_y):\n",
    "    closest_pix_x = (np.where(np.abs(detector_x - photon_x) == np.min(np.abs(detector_x - photon_x))))[0]\n",
    "    closest_pix_x = closest_pix_x[0]\n",
    "    closest_pix_y = (np.where(np.abs(detector_y - photon_y) == np.min(np.abs(detector_y - photon_y))))[0]\n",
    "    closest_pix_y = closest_pix_y[0]\n",
    "    return(closest_pix_x, closest_pix_y)"
   ]
  },
  {
   "cell_type": "code",
   "execution_count": 4,
   "metadata": {},
   "outputs": [],
   "source": [
    "def ghost_cell():\n",
    "    if closest_pix_x < math.floor(num_pix_plt / 2) or closest_pix_y < math.floor(num_pix_plt / 2) or closest_pix_x > (num_pix_x - math.floor(num_pix_plt / 2)) or closest_pix_y > (num_pix_y - math.floor(num_pix_plt / 2)):\n",
    "        #xtr_)row/col is the number of rows or columns needed to fit the entire photon in the array\n",
    "        #xtr_row = xtr_col = (math.ceil((e_cloud * (1/2)) / pix_L)) defined at top\n",
    "        #redefine detector size to fit\n",
    "        detector = np.zeros((num_pix_x + xtr_row*2, num_pix_y + xtr_col*2))\n",
    "        detector_x = np.arange(num_pix_x + xtr_row) * pix_L + pix_half_L\n",
    "        detector_y = np.arange(num_pix_y + xtr_col) * pix_L + pix_half_L\n",
    "        return detector, detector_x, detector_y\n",
    "        print('photon fell too close to edge of detector for the graph we wrote to work. Added extra layer of dead pixels to help?')\n",
    "    else:\n",
    "        print('no imshow problems')"
   ]
  },
  {
   "cell_type": "code",
   "execution_count": 5,
   "metadata": {},
   "outputs": [],
   "source": [
    "def zero_ghost_cells():\n",
    "    if closest_pix_x < math.floor(num_pix_plt / 2) or closest_pix_y < math.floor(num_pix_plt / 2) or closest_pix_x > (num_pix_x - math.floor(num_pix_plt / 2)) or closest_pix_y > (num_pix_y - math.floor(num_pix_plt / 2)):\n",
    "        #they will be erased\n",
    "        #xtr_row = xtr_col = 2 * (math.ceil((e_cloud * (1/2)) / pix_L)) defined at top\n",
    "        detector[0:xtr_row,] = 0 #top\n",
    "        detector[-xtr_row:,] = 0 #bottom\n",
    "        detector[:,0:xtr_col] = 0 #left\n",
    "        detector[:,-xtr_col:] = 0 #right\n",
    "        print('photon fell too close to edge of detector. Brought ghost cell values to zero.')\n",
    "        return detector\n",
    "    else:\n",
    "        print('didnt work')"
   ]
  },
  {
   "cell_type": "code",
   "execution_count": 6,
   "metadata": {},
   "outputs": [],
   "source": [
    "def gaus_noise():\n",
    "    #np.random.normal(mean noise, std dev, size of array)\n",
    "    #had to make an if statement in case the array is larger for ghost cells\n",
    "    #if closest_pix_x < math.floor(num_pix_plt / 2) or closest_pix_y < math.floor(num_pix_plt / 2) or closest_pix_x > (num_pix_x - math.floor(num_pix_plt / 2)) or closest_pix_y > (num_pix_y - math.floor(num_pix_plt / 2)):\n",
    "    #    detector += np.random.normal(loc = mean, scale = std_dev, size = (num_pix_x + xtr_row * 2, num_pix_y + xtr_col *2))\n",
    "    #else:\n",
    "    #loc = mean\n",
    "    noise_array = np.random.normal(loc = mean, scale = std_dev, size = (num_pix_x, num_pix_y))\n",
    "    return noise_array"
   ]
  },
  {
   "cell_type": "code",
   "execution_count": 7,
   "metadata": {},
   "outputs": [],
   "source": [
    "def integrate_setup():\n",
    "#Whenever you see an error that include 'NoneType' that means that you have an operand or an object that is None when you were expecting something else.\n",
    "#num_subpix is the number in x & y (rows and columns) they are always equal because the photon will always be a circle\n",
    "    #subpix_x_cen, subpix_y_cen, subpix_z_cen, subpix_arr = integrate_setup()\n",
    "    subpix_arr = np.zeros((num_subpix_x, num_subpix_y, num_subpix_z))\n",
    "    subpix_x_cen = np.arange(num_subpix_x) * subpix_L + (detector_x[int(closest_pix_x - start_pix)] - pix_half_L) + subpix_L\n",
    "    subpix_y_cen = np.arange(num_subpix_y) * subpix_L + (detector_y[int(closest_pix_y - start_pix)] - pix_half_L) + subpix_L  \n",
    "    subpix_z_cen = np.arange(num_subpix_z) * subpix_L\n",
    "    return subpix_arr, subpix_x_cen, subpix_y_cen, subpix_z_cen"
   ]
  },
  {
   "cell_type": "code",
   "execution_count": 8,
   "metadata": {},
   "outputs": [],
   "source": [
    "#this can hypothitically done at the beginning (or anywhere before the plot really...)\n",
    "#this function does not rely on any other functions -- it will also remain the same for the same pixel/e_cloud sizes\n",
    "def find_num_pix_plt(num_pix_plt):\n",
    "    if num_pix_plt % 2 == 0:\n",
    "        num_pix_plt += 3\n",
    "    else:\n",
    "        num_pix_plt += 2\n",
    "    return num_pix_plt"
   ]
  },
  {
   "cell_type": "code",
   "execution_count": 9,
   "metadata": {},
   "outputs": [],
   "source": [
    "def sphere_integrate(subpix_x_cen, subpix_y_cen, subpix_z_cen):\n",
    "    for i in range(num_subpix_x):\n",
    "        for j in range(num_subpix_y):\n",
    "            for k in range(num_subpix_z):\n",
    "                dist_cen_photon = np.sqrt((subpix_x_cen[i] - photon_x)**2 + \\\n",
    "                                                (subpix_y_cen[j] - photon_y)**2 + \\\n",
    "                                                (subpix_z_cen[k] - photon_z)**2)\n",
    "#the entire electron will be contained within a pixel if the distance from center of photon is less than half the e_cloud diameter\n",
    "                if dist_cen_photon < e_cloud / 2:\n",
    "                    subpix_arr[i,j,k] = 1\n",
    "    return subpix_arr\n",
    "#dist_cen_photon = sphere_integrate(subpix_x_cen, subpix_y_cen, subpix_z_cen)"
   ]
  },
  {
   "cell_type": "code",
   "execution_count": 10,
   "metadata": {},
   "outputs": [],
   "source": [
    "def each_pix_e(closest_pix_x, closest_pix_y):\n",
    "    for ii in range(int(closest_pix_x - start_pix), int(closest_pix_x + (num_pix_plt - start_pix))):\n",
    "        for jj in range(int(closest_pix_y - start_pix), int(closest_pix_y + (num_pix_plt - start_pix))):\n",
    "            left_edge = edge_x[ii]\n",
    "            right_edge = edge_x[ii + 1] \n",
    "            bottom_edge = edge_y[jj]\n",
    "            top_edge = edge_y[jj + 1] \n",
    "            #gives us 1st element to sum over\n",
    "            #>= <= allows us to account for the pixels landing on the edge\n",
    "            match_x0 = np.where (subpix_x_cen >= left_edge)[0][0]\n",
    "            #[0][-1] -1 means take the last numbre of the array\n",
    "            match_x1 = np.where (subpix_x_cen <= right_edge)[0][-1]\n",
    "            match_y0 = np.where (subpix_y_cen >= bottom_edge)[0][0]\n",
    "            match_y1 = np.where (subpix_y_cen <= top_edge)[0][-1]\n",
    "            this_pct = np.sum(img[match_x0:match_x1, match_y0:match_y1]) / np.sum(img)\n",
    "            #with more photons continue to += \n",
    "            detector[ii, jj] += this_pct * e_per_photon\n",
    "            #print(detector[ii,jj])"
   ]
  },
  {
   "cell_type": "code",
   "execution_count": 11,
   "metadata": {},
   "outputs": [],
   "source": [
    "#imgplot is a zoomed in 2D visualization of a 3D photon hitting the sensor\n",
    "#this cell is making the imshow graph/ image\n",
    "#img = is the integration #voxel = 3D pixel\n",
    "\n",
    "def e_cloud_plt():\n",
    "    subpix_arr = integrate_setup()\n",
    "    img = np.sum(subpix_arr, axis=0)\n",
    "    imgplot = plt.imshow(img)\n",
    "    plt.grid(True)\n",
    "    plt.axis([0, num_subpix_x , 0, num_subpix_y])\n",
    "    #subpix size tells the program how exact we want our calculations. how many pieces of the pixel are we accounting for\n",
    "    #*** shows 90 as past the border. also check the subpix defined edges, why not just full pixels?\n",
    "    plt.title('Magnified detector showing where photon hit')\n",
    "    plt.xlabel('number of subpixels')\n",
    "    plt.ylabel('number of subpixels')\n",
    "    plt.axis(aspect = 'img')\n",
    "    ax = plt.gca()\n",
    "    ax.set_xticks(np.arange(0, num_subpix_x, num_subpix_x / num_pix_plt))\n",
    "    ax.set_yticks(np.arange(0, num_subpix_y, num_subpix_y / num_pix_plt))\n",
    "    plt.colorbar(label='Number of Electrons (charge)')\n",
    "    plt.show()\n",
    "    return img, imgplot\n"
   ]
  },
  {
   "cell_type": "code",
   "execution_count": 12,
   "metadata": {},
   "outputs": [],
   "source": [
    "def delete_ghost():\n",
    "    if closest_pix_x < math.floor(num_pix_plt / 2) or closest_pix_y < math.floor(num_pix_plt / 2) or closest_pix_x > (num_pix_x - math.floor(num_pix_plt / 2)) or closest_pix_y > (num_pix_y - math.floor(num_pix_plt / 2)):\n",
    "        #axis : Axis along which we want to delete. If 1 then dlete columns, if 0 then delete rows and if None then app4ly delete on flattened array.\n",
    "        np.delete(detector, [0,xtr_row], axis = 0) #top\n",
    "        np.delete(detector, [num_pix_x+xtr_row*2-xtr_row,], axis = 0) #bottom\n",
    "        np.delete(detector, [0,xtr_col], axis = 1) #left\n",
    "        np.delete(detector, [num_pix_x+xtr_col*2-xtr_col,], axis = 1) #right\n",
    "        return detector\n",
    "    else:\n",
    "        None"
   ]
  },
  {
   "cell_type": "markdown",
   "metadata": {},
   "source": [
    "Set up specific variables for hte run"
   ]
  },
  {
   "cell_type": "code",
   "execution_count": 13,
   "metadata": {},
   "outputs": [],
   "source": [
    "#3 main knobs to change and get new histograms\n",
    "num_photon = 1 #how many photons do you want to hit the sensor\n",
    "frames = 100000\n",
    "#amount of gaus noise is based on \"mean, std_dev\"\n",
    "\n",
    "pix_L = 10 #microns\n",
    "pix_half_L = pix_L / 2\n",
    "num_pix_x = 10\n",
    "num_pix_y = 10\n",
    "tot_pix = num_pix_x * num_pix_y\n",
    "e_per_photon = 1500 #electrons\n",
    "subpix_L = 1 #microns #this number just determines the img quality (how pixellated)\n",
    "e_cloud = 10 #microns diameter for photon energy of 6 keV\n",
    "gain = 1 #electrons/DN\n",
    "#below\n",
    "bias = 0 #electrons base voltage\n",
    "mean = 0 #for histogram gaus distribution\n",
    "std_dev = 0 #gaussian noise added to each pixel np.random.normal = gaussian could also name this variable g_noise\n",
    "photon_z = int(e_cloud / 2) +2 #***will eventually be changed\n",
    "xtr_row = xtr_col = math.ceil((e_cloud * (1/2)) / pix_L)\n",
    "num_pix_plt = find_num_pix_plt(math.ceil(e_cloud / pix_L))\n",
    "#num_pix_plt = math.ceil(e_cloud / pix_L)\n",
    "border = math.floor(num_pix_plt / 2) #this shows us the minimum border needed so the pixels don't get cut off\n",
    "#the border wasnt really the problem, but it could be, so applying minimum border\n",
    "start_pix = (num_pix_plt - 1) / 2\n",
    "num_subpix = num_subpix_x = num_subpix_y = round((pix_L * num_pix_plt) / subpix_L)\n",
    "num_subpix_z = photon_z * 2 #*** will need to be fixed/removed later"
   ]
  },
  {
   "cell_type": "code",
   "execution_count": 14,
   "metadata": {},
   "outputs": [],
   "source": [
    "#defining initial array representation of detector\n",
    "#this does not need to be a function: everything is applied to this single detector:\n",
    "#detector = np.zeros((num_pix_x, num_pix_y))\n",
    "detector_x = np.arange(num_pix_x) * pix_L + pix_half_L\n",
    "detector_y = np.arange(num_pix_y) * pix_L + pix_half_L\n",
    "cen_x = np.arange(num_pix_x) * pix_L + pix_half_L\n",
    "cen_y = np.arange(num_pix_y) * pix_L + pix_half_L\n",
    "edge_x = np.arange(num_pix_x + 1) * pix_L\n",
    "edge_y = np.arange(num_pix_y + 1) * pix_L"
   ]
  },
  {
   "cell_type": "code",
   "execution_count": 15,
   "metadata": {},
   "outputs": [],
   "source": [
    "#empty list to be used for appending detector data to\n",
    "detector_list = []\n",
    "closest_pix_list = []"
   ]
  },
  {
   "cell_type": "code",
   "execution_count": 61,
   "metadata": {
    "scrolled": true
   },
   "outputs": [
    {
     "name": "stdout",
     "output_type": "stream",
     "text": [
      "1500.0\n",
      "3000.0\n",
      "4500.0\n",
      "6000.0\n",
      "7500.0\n",
      "9000.0\n",
      "10500.0\n",
      "12000.0\n",
      "13500.0\n",
      "15000.0\n",
      "16500.0\n",
      "18000.0\n",
      "19500.0\n",
      "21000.0\n",
      "22500.0\n",
      "24000.0\n",
      "25500.0\n",
      "27000.0\n",
      "28500.0\n",
      "30000.0\n",
      "31500.0\n",
      "33000.0\n",
      "34500.0\n",
      "36000.0\n",
      "37500.0\n",
      "39000.0\n",
      "40500.0\n",
      "42000.0\n",
      "43500.0\n",
      "45000.0\n",
      "46500.0\n",
      "48000.0\n",
      "49500.0\n",
      "51000.0\n",
      "52500.0\n",
      "54000.0\n",
      "55500.0\n",
      "57000.0\n",
      "58500.0\n",
      "60000.0\n",
      "61500.0\n",
      "63000.0\n",
      "64500.0\n",
      "66000.0\n",
      "67500.0\n",
      "69000.0\n",
      "70500.0\n",
      "72000.0\n",
      "73500.0\n",
      "75000.0\n",
      "76500.0\n",
      "78000.0\n",
      "79500.0\n",
      "81000.0\n",
      "82500.0\n",
      "84000.0\n",
      "85500.0\n",
      "87000.0\n",
      "88500.0\n",
      "90000.0\n",
      "91500.0\n",
      "93000.0\n",
      "94500.0\n",
      "96000.0\n",
      "97500.0\n",
      "99000.0\n",
      "100500.0\n",
      "102000.0\n",
      "103500.0\n",
      "105000.0\n",
      "106500.0\n",
      "108000.0\n",
      "109500.0\n",
      "111000.0\n",
      "112500.0\n",
      "114000.0\n",
      "115500.0\n",
      "117000.0\n",
      "118500.0\n",
      "120000.0\n",
      "121500.0\n",
      "123000.0\n",
      "124500.0\n",
      "126000.0\n",
      "127500.0\n",
      "129000.0\n",
      "130500.0\n",
      "132000.0\n",
      "133500.0\n",
      "135000.0\n",
      "136500.0\n",
      "138000.0\n",
      "139500.0\n",
      "141000.0\n",
      "142500.0\n",
      "144000.0\n",
      "145500.0\n",
      "147000.0\n",
      "148500.0\n",
      "150000.0\n",
      "151500.0\n",
      "153000.0\n",
      "154500.0\n",
      "156000.0\n",
      "157500.0\n",
      "159000.0\n",
      "160500.0\n",
      "162000.0\n"
     ]
    },
    {
     "ename": "KeyboardInterrupt",
     "evalue": "",
     "output_type": "error",
     "traceback": [
      "\u001b[1;31m---------------------------------------------------------------------------\u001b[0m",
      "\u001b[1;31mKeyboardInterrupt\u001b[0m                         Traceback (most recent call last)",
      "\u001b[1;32m<ipython-input-61-e76020bfee44>\u001b[0m in \u001b[0;36m<module>\u001b[1;34m\u001b[0m\n\u001b[0;32m     13\u001b[0m         \u001b[0msubpix_arr\u001b[0m\u001b[1;33m,\u001b[0m \u001b[0msubpix_x_cen\u001b[0m\u001b[1;33m,\u001b[0m \u001b[0msubpix_y_cen\u001b[0m\u001b[1;33m,\u001b[0m \u001b[0msubpix_z_cen\u001b[0m \u001b[1;33m=\u001b[0m \u001b[0mintegrate_setup\u001b[0m\u001b[1;33m(\u001b[0m\u001b[1;33m)\u001b[0m\u001b[1;33m\u001b[0m\u001b[1;33m\u001b[0m\u001b[0m\n\u001b[0;32m     14\u001b[0m         \u001b[0msubpix_arr\u001b[0m \u001b[1;33m=\u001b[0m \u001b[0msphere_integrate\u001b[0m\u001b[1;33m(\u001b[0m\u001b[0msubpix_x_cen\u001b[0m\u001b[1;33m,\u001b[0m \u001b[0msubpix_y_cen\u001b[0m\u001b[1;33m,\u001b[0m \u001b[0msubpix_z_cen\u001b[0m\u001b[1;33m)\u001b[0m\u001b[1;33m\u001b[0m\u001b[1;33m\u001b[0m\u001b[0m\n\u001b[1;32m---> 15\u001b[1;33m         \u001b[0mimg\u001b[0m \u001b[1;33m=\u001b[0m \u001b[1;33m(\u001b[0m\u001b[0mnp\u001b[0m\u001b[1;33m.\u001b[0m\u001b[0msum\u001b[0m\u001b[1;33m(\u001b[0m\u001b[0msubpix_arr\u001b[0m\u001b[1;33m,\u001b[0m\u001b[0maxis\u001b[0m\u001b[1;33m=\u001b[0m\u001b[1;36m2\u001b[0m\u001b[1;33m)\u001b[0m\u001b[1;33m)\u001b[0m\u001b[1;33m\u001b[0m\u001b[1;33m\u001b[0m\u001b[0m\n\u001b[0m\u001b[0;32m     16\u001b[0m         \u001b[0mplt\u001b[0m\u001b[1;33m.\u001b[0m\u001b[0mimshow\u001b[0m\u001b[1;33m(\u001b[0m\u001b[0mimg\u001b[0m\u001b[1;33m)\u001b[0m\u001b[1;33m\u001b[0m\u001b[1;33m\u001b[0m\u001b[0m\n\u001b[0;32m     17\u001b[0m         \u001b[0meach_pix_e\u001b[0m\u001b[1;33m(\u001b[0m\u001b[0mclosest_pix_x\u001b[0m\u001b[1;33m,\u001b[0m \u001b[0mclosest_pix_y\u001b[0m\u001b[1;33m)\u001b[0m\u001b[1;33m\u001b[0m\u001b[1;33m\u001b[0m\u001b[0m\n",
      "\u001b[1;32m<__array_function__ internals>\u001b[0m in \u001b[0;36msum\u001b[1;34m(*args, **kwargs)\u001b[0m\n",
      "\u001b[1;32m~\\anaconda3\\lib\\site-packages\\numpy\\core\\fromnumeric.py\u001b[0m in \u001b[0;36msum\u001b[1;34m(a, axis, dtype, out, keepdims, initial, where)\u001b[0m\n\u001b[0;32m   2239\u001b[0m         \u001b[1;32mreturn\u001b[0m \u001b[0mres\u001b[0m\u001b[1;33m\u001b[0m\u001b[1;33m\u001b[0m\u001b[0m\n\u001b[0;32m   2240\u001b[0m \u001b[1;33m\u001b[0m\u001b[0m\n\u001b[1;32m-> 2241\u001b[1;33m     return _wrapreduction(a, np.add, 'sum', axis, dtype, out, keepdims=keepdims,\n\u001b[0m\u001b[0;32m   2242\u001b[0m                           initial=initial, where=where)\n\u001b[0;32m   2243\u001b[0m \u001b[1;33m\u001b[0m\u001b[0m\n",
      "\u001b[1;32m~\\anaconda3\\lib\\site-packages\\numpy\\core\\fromnumeric.py\u001b[0m in \u001b[0;36m_wrapreduction\u001b[1;34m(obj, ufunc, method, axis, dtype, out, **kwargs)\u001b[0m\n\u001b[0;32m     85\u001b[0m                 \u001b[1;32mreturn\u001b[0m \u001b[0mreduction\u001b[0m\u001b[1;33m(\u001b[0m\u001b[0maxis\u001b[0m\u001b[1;33m=\u001b[0m\u001b[0maxis\u001b[0m\u001b[1;33m,\u001b[0m \u001b[0mout\u001b[0m\u001b[1;33m=\u001b[0m\u001b[0mout\u001b[0m\u001b[1;33m,\u001b[0m \u001b[1;33m**\u001b[0m\u001b[0mpasskwargs\u001b[0m\u001b[1;33m)\u001b[0m\u001b[1;33m\u001b[0m\u001b[1;33m\u001b[0m\u001b[0m\n\u001b[0;32m     86\u001b[0m \u001b[1;33m\u001b[0m\u001b[0m\n\u001b[1;32m---> 87\u001b[1;33m     \u001b[1;32mreturn\u001b[0m \u001b[0mufunc\u001b[0m\u001b[1;33m.\u001b[0m\u001b[0mreduce\u001b[0m\u001b[1;33m(\u001b[0m\u001b[0mobj\u001b[0m\u001b[1;33m,\u001b[0m \u001b[0maxis\u001b[0m\u001b[1;33m,\u001b[0m \u001b[0mdtype\u001b[0m\u001b[1;33m,\u001b[0m \u001b[0mout\u001b[0m\u001b[1;33m,\u001b[0m \u001b[1;33m**\u001b[0m\u001b[0mpasskwargs\u001b[0m\u001b[1;33m)\u001b[0m\u001b[1;33m\u001b[0m\u001b[1;33m\u001b[0m\u001b[0m\n\u001b[0m\u001b[0;32m     88\u001b[0m \u001b[1;33m\u001b[0m\u001b[0m\n\u001b[0;32m     89\u001b[0m \u001b[1;33m\u001b[0m\u001b[0m\n",
      "\u001b[1;31mKeyboardInterrupt\u001b[0m: "
     ]
    },
    {
     "data": {
      "image/png": "[encoded data removed]",
      "text/plain": [
       "<Figure size 432x288 with 1 Axes>"
      ]
     },
     "metadata": {
      "needs_background": "light"
     },
     "output_type": "display_data"
    }
   ],
   "source": [
    "#here is the for loop that runs all the functions\n",
    "#these empty lists must be created in the same block to avoid\n",
    "detector_list = []\n",
    "closest_pix_list = []\n",
    "for f in range (0, frames):\n",
    "    detector = np.zeros((num_pix_x, num_pix_y))\n",
    "    #noise_array = gaus_noise()\n",
    "    #detector = detector + noise_array\n",
    "    for ph in range(0, num_photon):\n",
    "        photon_x, photon_y = rand_num_gen()\n",
    "        closest_pix_x, closest_pix_y = find_closest_pix(photon_x, photon_y)\n",
    "        #print((closest_pix_x, closest_pix_y))\n",
    "        close_pix = [closest_pix_x, closest_pix_y]\n",
    "        subpix_arr, subpix_x_cen, subpix_y_cen, subpix_z_cen = integrate_setup()\n",
    "        subpix_arr = sphere_integrate(subpix_x_cen, subpix_y_cen, subpix_z_cen)\n",
    "        img = (np.sum(subpix_arr,axis=2))\n",
    "        plt.imshow(img)\n",
    "        each_pix_e(closest_pix_x, closest_pix_y)\n",
    "    detector_list.append(detector)\n",
    "    closest_pix_list.append(close_pix)\n",
    "    #print(np.sum(detector))\n",
    "    print(np.sum(detector_list))"
   ]
  },
  {
   "cell_type": "code",
   "execution_count": 17,
   "metadata": {},
   "outputs": [
    {
     "name": "stdout",
     "output_type": "stream",
     "text": [
      "ERROR the sum of the appended list: 149999999.99999997 should equal: 150000000\n"
     ]
    }
   ],
   "source": [
    "#here I'm checking how well the detectors are being appended to the list\n",
    "if np.sum(detector_list) == (num_photon*frames*e_per_photon):\n",
    "    print('sum of detector_list = ' + str(num_photon*frames*e_per_photon))\n",
    "else:\n",
    "    print('ERROR the sum of the appended list: ' + str(np.sum(detector_list)) + ' should equal: ' + str((num_photon*frames*e_per_photon)))"
   ]
  },
  {
   "cell_type": "code",
   "execution_count": 18,
   "metadata": {},
   "outputs": [],
   "source": [
    "#here we are generating a single random point to choose the pixel we'll be making plots of\n",
    "#slice: array[row, col]\n",
    "#take same slice of all detectors\n",
    "#random number gen to generate where which pixel we're characterizing\n",
    "#for each exposure we need to: take a random pixel and make a histogram of it over \"time\" over different exposures\n",
    "def rand_num_gen_2():\n",
    "    #border: ln[3] was the original random_num_gen() \n",
    "    #border is the number of desired pixels/ number of required surrounding pixels based on electron cloud/ pixel length ratio\n",
    "    x = random.uniform(border*pix_L, ((num_pix_x - border) * pix_L)) #microns\n",
    "    y = random.uniform(border*pix_L, ((num_pix_x - border) * pix_L)) #microns\n",
    "    return x, y\n",
    "\n",
    "def find_closest_pix_2(x, y):\n",
    "    cl_x = (np.where(np.abs(detector_x - x) == np.min(np.abs(detector_x - x))))[0]\n",
    "    cl_x = cl_x[0]\n",
    "    cl_y = (np.where(np.abs(detector_y - y) == np.min(np.abs(detector_y - y))))[0]\n",
    "    cl_y = cl_y[0]\n",
    "    return(cl_x, cl_y)"
   ]
  },
  {
   "cell_type": "code",
   "execution_count": 62,
   "metadata": {},
   "outputs": [
    {
     "ename": "IndexError",
     "evalue": "list index out of range",
     "output_type": "error",
     "traceback": [
      "\u001b[1;31m---------------------------------------------------------------------------\u001b[0m",
      "\u001b[1;31mIndexError\u001b[0m                                Traceback (most recent call last)",
      "\u001b[1;32m<ipython-input-62-c4c4f13a3a2c>\u001b[0m in \u001b[0;36m<module>\u001b[1;34m\u001b[0m\n\u001b[0;32m      4\u001b[0m \u001b[0mcl_x\u001b[0m\u001b[1;33m,\u001b[0m\u001b[0mcl_y\u001b[0m \u001b[1;33m=\u001b[0m \u001b[0mfind_closest_pix_2\u001b[0m\u001b[1;33m(\u001b[0m\u001b[0mx\u001b[0m\u001b[1;33m,\u001b[0m\u001b[0my\u001b[0m\u001b[1;33m)\u001b[0m\u001b[1;33m\u001b[0m\u001b[1;33m\u001b[0m\u001b[0m\n\u001b[0;32m      5\u001b[0m \u001b[1;32mfor\u001b[0m \u001b[0mexp\u001b[0m \u001b[1;32min\u001b[0m \u001b[0mrange\u001b[0m \u001b[1;33m(\u001b[0m\u001b[1;36m0\u001b[0m\u001b[1;33m,\u001b[0m \u001b[0mframes\u001b[0m\u001b[1;33m)\u001b[0m\u001b[1;33m:\u001b[0m\u001b[1;33m\u001b[0m\u001b[1;33m\u001b[0m\u001b[0m\n\u001b[1;32m----> 6\u001b[1;33m     \u001b[0mexp_a\u001b[0m \u001b[1;33m=\u001b[0m \u001b[0mdetector_list\u001b[0m\u001b[1;33m[\u001b[0m\u001b[0mexp\u001b[0m\u001b[1;33m]\u001b[0m\u001b[1;33m[\u001b[0m\u001b[0mcl_x\u001b[0m\u001b[1;33m,\u001b[0m \u001b[0mcl_y\u001b[0m\u001b[1;33m]\u001b[0m\u001b[1;33m\u001b[0m\u001b[1;33m\u001b[0m\u001b[0m\n\u001b[0m\u001b[0;32m      7\u001b[0m     \u001b[1;32mif\u001b[0m \u001b[1;33m(\u001b[0m\u001b[0mexp_a\u001b[0m \u001b[1;33m==\u001b[0m \u001b[1;36m0.0\u001b[0m\u001b[1;33m)\u001b[0m\u001b[1;33m:\u001b[0m\u001b[1;33m\u001b[0m\u001b[1;33m\u001b[0m\u001b[0m\n\u001b[0;32m      8\u001b[0m         \u001b[1;32mNone\u001b[0m\u001b[1;33m\u001b[0m\u001b[1;33m\u001b[0m\u001b[0m\n",
      "\u001b[1;31mIndexError\u001b[0m: list index out of range"
     ]
    }
   ],
   "source": [
    "#orig for loop:\n",
    "exp_list = []\n",
    "x,y = rand_num_gen_2()\n",
    "cl_x,cl_y = find_closest_pix_2(x,y)\n",
    "for exp in range (0, frames):\n",
    "    exp_a = detector_list[exp][cl_x, cl_y]\n",
    "    if (exp_a == 0.0):\n",
    "        None\n",
    "    else:\n",
    "        exp_list.append(exp_a)\n",
    "#print (exp_list)\n",
    "#print (allpixdata_list)\n",
    "#find pixels=0 and exclude: will change when we make noise>0"
   ]
  },
  {
   "cell_type": "code",
   "execution_count": 63,
   "metadata": {
    "scrolled": true
   },
   "outputs": [
    {
     "data": {
      "image/png": "[encoded data removed]",
      "text/plain": [
       "<Figure size 432x288 with 1 Axes>"
      ]
     },
     "metadata": {
      "needs_background": "light"
     },
     "output_type": "display_data"
    }
   ],
   "source": [
    "plt.hist (exp_list, 100);\n",
    "#plt.xlim(50, 2000);\n",
    "plt.title('Data from ' + str(frames) + ' exposures with ' + str(num_photon) + ' photons per exposure');\n",
    "#with what function will we fit this histogram\n",
    "#make image that is sum of exposures"
   ]
  },
  {
   "cell_type": "code",
   "execution_count": 49,
   "metadata": {
    "scrolled": true
   },
   "outputs": [],
   "source": [
    "#create empty list to put exposure data from random pixel at each exposure\n",
    "exp_list_2 = []\n",
    "allpixdata_list = []\n",
    "for pix in range (0, int(tot_pix)):\n",
    "    x,y = rand_num_gen_2()\n",
    "    cl_x,cl_y = find_closest_pix_2(x,y)\n",
    "    for exp in range (0, frames):\n",
    "        exp_a = detector_list[exp][cl_x, cl_y]\n",
    "        if exp_a != 0:\n",
    "            exp_list_2.append(exp_a)\n",
    "        else:\n",
    "            None\n",
    "    allpixdata_list.append(exp_list_2)\n"
   ]
  },
  {
   "cell_type": "code",
   "execution_count": 50,
   "metadata": {
    "scrolled": false
   },
   "outputs": [
    {
     "data": {
      "image/png": "[encoded data removed]",
      "text/plain": [
       "<Figure size 432x288 with 1 Axes>"
      ]
     },
     "metadata": {
      "needs_background": "light"
     },
     "output_type": "display_data"
    }
   ],
   "source": [
    "#histogram of all exposures at multiple random pixel sites\n",
    "#data is from random pixels\n",
    "plt.hist (allpixdata_list, 100);\n",
    "#plt.xlim(750, 1500);\n",
    "#plt.xlim(100, 1600);\n",
    "plt.title('Data from ' + str(frames) + ' exposures with ' + str(num_photon) + ' photons per exposure');\n"
   ]
  },
  {
   "cell_type": "code",
   "execution_count": 23,
   "metadata": {},
   "outputs": [],
   "source": [
    "#****ITTERATE THROUGH THE LIST \n",
    "cmp_ar = np.zeros_like(detector)\n",
    "for i in range(len(detector_list)):\n",
    "    cmp_ar = cmp_ar +detector_list[i]"
   ]
  },
  {
   "cell_type": "code",
   "execution_count": 24,
   "metadata": {},
   "outputs": [
    {
     "data": {
      "image/png": "[encoded data removed]",
      "text/plain": [
       "<Figure size 432x288 with 2 Axes>"
      ]
     },
     "metadata": {
      "needs_background": "light"
     },
     "output_type": "display_data"
    }
   ],
   "source": [
    "#to make this plot correctly we needeed to define the ticks as a LIST\n",
    "x_tick_label = (np.arange(0, num_pix_x+1, step = 10))\n",
    "y_tick_label = (np.arange(0, num_pix_y+1, step = 10))\n",
    "x_tick_label.tolist()\n",
    "\n",
    "plt.imshow(cmp_ar)\n",
    "plt.axis([0, num_pix_plt, 0, num_pix_plt])\n",
    "plt.title('Full detector: pixel = ' + str(pix_L) + ' microns')\n",
    "plt.xlabel('pixel')\n",
    "plt.ylabel('pixel')\n",
    "plt.colorbar(label='Number of Electrons')\n",
    "#plt.axis(aspect = 'img')\n",
    "ax = plt.gca()\n",
    "plt.xticks(x_tick_label)\n",
    "plt.yticks(y_tick_label)\n",
    "plt.xlim(0,num_pix_x)\n",
    "plt.ylim(0,num_pix_y)\n",
    "ax.set_xticklabels(x_tick_label)\n",
    "ax.set_yticklabels(y_tick_label)\n",
    "plt.show();"
   ]
  },
  {
   "cell_type": "code",
   "execution_count": 25,
   "metadata": {},
   "outputs": [
    {
     "data": {
      "image/png": "[encoded data removed]",
      "text/plain": [
       "<Figure size 432x288 with 2 Axes>"
      ]
     },
     "metadata": {
      "needs_background": "light"
     },
     "output_type": "display_data"
    }
   ],
   "source": [
    "x_tick_img = (np.arange(0, num_pix_plt*num_subpix_x/pix_L, step = 1))\n",
    "y_tick_img = (np.arange(0, num_subpix_y/pix_L, step = 1))\n",
    "x_tick_img.tolist()\n",
    "y_tick_img.tolist()\n",
    "plt.imshow(img)\n",
    "#ax.set_xticklabels(x_tick_img)\n",
    "#ax.set_yticklabels(y_tick_img)\n",
    "plt.xlabel('microns')\n",
    "plt.ylabel('microns')\n",
    "plt.title('Zoomed in portion of detector')\n",
    "plt.colorbar(label=\"Subpixel's charge\")\n",
    "plt.grid()\n",
    "plt.show();"
   ]
  },
  {
   "cell_type": "code",
   "execution_count": 26,
   "metadata": {
    "scrolled": true
   },
   "outputs": [
    {
     "data": {
      "image/png": "[encoded data removed]",
      "text/plain": [
       "<Figure size 432x288 with 2 Axes>"
      ]
     },
     "metadata": {
      "needs_background": "light"
     },
     "output_type": "display_data"
    }
   ],
   "source": [
    "#zoomed in full detector: problems with actual size of plot: figure it out\n",
    "x_tick_label = (np.arange(-.5, num_pix_plt))\n",
    "y_tick_label = (np.arange(-.5, num_pix_plt))\n",
    "x_tick_label.tolist()\n",
    "y_tick_label.tolist()\n",
    "\n",
    "num_pix_sm_det = math.ceil(num_pix_plt/2)\n",
    "sm_det_arr = detector[closest_pix_x - num_pix_sm_det+1 : closest_pix_x + num_pix_sm_det, closest_pix_y - num_pix_sm_det+1 : closest_pix_y + num_pix_sm_det]\n",
    "plt.imshow(sm_det_arr)\n",
    "plt.grid(True)\n",
    "plt.axis([0, num_pix_plt-.5, num_pix_plt-.5, 0])\n",
    "plt.title('One Photon Hit: close-up of detector')\n",
    "plt.xlabel('Pixel')\n",
    "plt.ylabel('Pixel')\n",
    "ax = plt.gca()\n",
    "ax.set_xticks(x_tick_label)\n",
    "ax.set_yticks(y_tick_label)\n",
    "#ax.set_xticklabels(np.arange(1, num_pix_plt, 1))\n",
    "#ax.set_yticklabels(np.arange(1, num_pix_plt, 1))\n",
    "clb = plt.colorbar()\n",
    "clb.set_label(\"Pixel's charge\")\n",
    "plt.show();"
   ]
  },
  {
   "cell_type": "code",
   "execution_count": 27,
   "metadata": {},
   "outputs": [
    {
     "name": "stdout",
     "output_type": "stream",
     "text": [
      "No rounding error. total number of electrons = 1500\n"
     ]
    }
   ],
   "source": [
    "check_tot_e = np.sum(detector) #+ bias * num_pix_x **2\n",
    "if (check_tot_e == e_per_photon*num_photon):\n",
    "    print('No rounding error. total number of electrons = ' + str(e_per_photon * num_photon))\n",
    "else:\n",
    "    print('***ROUNDING ERROR: total number of electrons is != ' + str(e_per_photon * num_photon) + \". It is = \" + str(check_tot_e))"
   ]
  },
  {
   "cell_type": "code",
   "execution_count": 28,
   "metadata": {},
   "outputs": [
    {
     "data": {
      "image/png": "[encoded data removed]",
      "text/plain": [
       "<Figure size 432x288 with 1 Axes>"
      ]
     },
     "metadata": {
      "needs_background": "light"
     },
     "output_type": "display_data"
    }
   ],
   "source": [
    "for ph in range(0, num_photon):\n",
    "        photon_x, photon_y = rand_num_gen()\n",
    "        closest_pix_x, closest_pix_y = find_closest_pix(photon_x, photon_y)\n",
    "        #print((closest_pix_x, closest_pix_y))\n",
    "        close_pix = [closest_pix_x, closest_pix_y]\n",
    "        subpix_arr, subpix_x_cen, subpix_y_cen, subpix_z_cen = integrate_setup()\n",
    "        subpix_arr = sphere_integrate(subpix_x_cen, subpix_y_cen, subpix_z_cen)\n",
    "        img = (np.sum(subpix_arr,axis=2))\n",
    "        plt.imshow(img)\n",
    "        each_pix_e(closest_pix_x, closest_pix_y)"
   ]
  },
  {
   "cell_type": "code",
   "execution_count": 29,
   "metadata": {},
   "outputs": [],
   "source": [
    "#adds the chosen bias to every value in the detector\n",
    "#for ii in range(num_pix_x):\n",
    "#    for jj in range (num_pix_y):\n",
    "#        detector[ii,jj] = detector[ii,jj] + bias \n",
    "#plt.imshow(detector)\n",
    "#help(detector)"
   ]
  },
  {
   "cell_type": "code",
   "execution_count": 30,
   "metadata": {},
   "outputs": [],
   "source": [
    "#adds gaussian noise with chosen standard deviation and mean (centroid)\n",
    "#noise_array = gaus_noise()\n",
    "#detector = detector + noise_array\n"
   ]
  },
  {
   "cell_type": "code",
   "execution_count": 31,
   "metadata": {},
   "outputs": [
    {
     "data": {
      "image/png": "[encoded data removed]",
      "text/plain": [
       "<Figure size 432x288 with 2 Axes>"
      ]
     },
     "metadata": {
      "needs_background": "light"
     },
     "output_type": "display_data"
    }
   ],
   "source": [
    "#to make this plot correctly we needeed to define the ticks as a LIST\n",
    "x_tick_label = (np.arange(0, num_pix_x+1, step = 10))\n",
    "y_tick_label = (np.arange(0, num_pix_y+1, step = 10))\n",
    "x_tick_label.tolist()\n",
    "\n",
    "plt.imshow(detector)\n",
    "plt.axis([0, num_pix_plt, 0, num_pix_plt])\n",
    "plt.title('Full detector: pixel = ' + str(pix_L) + ' microns')\n",
    "plt.xlabel('pixel')\n",
    "plt.ylabel('pixel')\n",
    "plt.colorbar(label='Number of Electrons')\n",
    "#plt.axis(aspect = 'img')\n",
    "ax = plt.gca()\n",
    "plt.xticks(x_tick_label)\n",
    "plt.yticks(y_tick_label)\n",
    "plt.xlim(0,num_pix_x)\n",
    "plt.ylim(0,num_pix_y)\n",
    "ax.set_xticklabels(x_tick_label)\n",
    "ax.set_yticklabels(y_tick_label)\n",
    "plt.show();\n",
    "#after converted to data number\n",
    "#descretize/ digitize\n",
    "#tot # of charge has to be int\n",
    "#ask amy if we want to >1 or >1.4 etc\n",
    "#(math.ceil)\n",
    "#this is what the gain conv does!"
   ]
  },
  {
   "cell_type": "code",
   "execution_count": 32,
   "metadata": {},
   "outputs": [
    {
     "name": "stdout",
     "output_type": "stream",
     "text": [
      "error: sum of detector did not result in expected value: actual sum of detector 3000.0 expected sum: 1500 + gaussian noise.\n"
     ]
    }
   ],
   "source": [
    "if (np.sum(detector) == (frames*e_per_photon*num_photon + bias*num_pix_x*num_pix_y)):\n",
    "    print('no problem')\n",
    "else:\n",
    "    print('error: sum of detector did not result in expected value: actual sum of detector ' + (str(np.sum(detector))) + ' expected sum: ' + str((e_per_photon*num_photon + bias*num_pix_x*num_pix_y)) + ' + gaussian noise.')"
   ]
  },
  {
   "cell_type": "code",
   "execution_count": 33,
   "metadata": {},
   "outputs": [],
   "source": [
    "#we need to flatten the detector bc it is a 3D array \n",
    "flat_det = detector.flatten() \n",
    "bin_div = 50\n",
    "#***ask if this is OK? can we have different bin sizes?\n",
    "num_bins = int(((bias+4*std_dev+e_per_photon) - (bias-4*std_dev)) / bin_div)\n",
    "#effectively range of the detector / bin_divisor\n",
    "hist, bin_edges = np.histogram(flat_det, bins=num_bins)"
   ]
  },
  {
   "cell_type": "code",
   "execution_count": 39,
   "metadata": {},
   "outputs": [
    {
     "name": "stdout",
     "output_type": "stream",
     "text": [
      "2500\n"
     ]
    },
    {
     "data": {
      "image/png": "[encoded data removed]",
      "text/plain": [
       "<Figure size 432x288 with 1 Axes>"
      ]
     },
     "metadata": {
      "needs_background": "light"
     },
     "output_type": "display_data"
    }
   ],
   "source": [
    "yhist, xhist, _ = plt.hist(flat_det, bins = num_bins)\n",
    "#print(max(yhist[80:]))\n",
    "plt.ylim(bin_div, 250)\n",
    "plt.xlim(0, 1800)\n",
    "signal_mean = 2500 #xhist[np.where(yhist == max(yhist[100:]))]\n",
    "print(signal_mean)"
   ]
  },
  {
   "cell_type": "code",
   "execution_count": 35,
   "metadata": {},
   "outputs": [
    {
     "data": {
      "image/png": "[encoded data removed]",
      "text/plain": [
       "<Figure size 432x288 with 1 Axes>"
      ]
     },
     "metadata": {
      "needs_background": "light"
     },
     "output_type": "display_data"
    }
   ],
   "source": [
    "bin_heights, bin_boundaries, _ = plt.hist(flat_det, bins = num_bins)\n",
    "plt.xlabel('electrons')\n",
    "plt.ylabel('number of pixels')\n",
    "plt.title('Histogram of detector: pixel size = ' + str(pix_L) + ' microns')\n",
    "plt.ylim(bin_div, 500)\n",
    "plt.xlim(100, 1500)\n",
    "plt.show();\n",
    "\n",
    "all_but_first = bin_boundaries[1:]\n",
    "all_but_last = bin_boundaries[:-1]  \n",
    "\n",
    "bin_midpoints = (all_but_first + all_but_last) / 2\n",
    "#full histogram with bias and signal bumps"
   ]
  },
  {
   "cell_type": "code",
   "execution_count": 36,
   "metadata": {
    "scrolled": true
   },
   "outputs": [
    {
     "data": {
      "image/png": "[encoded data removed]",
      "text/plain": [
       "<Figure size 432x288 with 1 Axes>"
      ]
     },
     "metadata": {
      "needs_background": "light"
     },
     "output_type": "display_data"
    }
   ],
   "source": [
    "bin_heights, bin_boundaries, _ = plt.hist(flat_det, bins = num_bins)\n",
    "plt.ylim(0, 500)\n",
    "plt.xlim(50, 3000)\n",
    "#plt.xlabel('electrons')\n",
    "#plt.ylabel('number of pixels')\n",
    "#plt.title('Histogram of detector: pixel size = ' + str(pix_L) + ' microns')\n",
    "plt.show();\n",
    "\n",
    "all_but_first = bin_boundaries[1:]\n",
    "all_but_last = bin_boundaries[:-1]  \n",
    "\n",
    "bin_midpoints = (all_but_first + all_but_last) / 2\n",
    "#full histogram with bias and signal bumps"
   ]
  },
  {
   "cell_type": "code",
   "execution_count": 37,
   "metadata": {},
   "outputs": [
    {
     "ename": "TypeError",
     "evalue": "Improper input: N=3 must not exceed M=0",
     "output_type": "error",
     "traceback": [
      "\u001b[1;31m---------------------------------------------------------------------------\u001b[0m",
      "\u001b[1;31mTypeError\u001b[0m                                 Traceback (most recent call last)",
      "\u001b[1;32m<ipython-input-37-b684b40a45f3>\u001b[0m in \u001b[0;36m<module>\u001b[1;34m\u001b[0m\n\u001b[0;32m      6\u001b[0m \u001b[0mbias_range\u001b[0m \u001b[1;33m=\u001b[0m \u001b[0mnp\u001b[0m\u001b[1;33m.\u001b[0m\u001b[0mwhere\u001b[0m\u001b[1;33m(\u001b[0m\u001b[0mbin_midpoints\u001b[0m\u001b[1;33m<\u001b[0m\u001b[0mbias\u001b[0m \u001b[1;33m+\u001b[0m \u001b[1;36m6\u001b[0m \u001b[1;33m*\u001b[0m \u001b[0mstd_dev\u001b[0m\u001b[1;33m)\u001b[0m\u001b[1;33m\u001b[0m\u001b[1;33m\u001b[0m\u001b[0m\n\u001b[0;32m      7\u001b[0m \u001b[1;33m\u001b[0m\u001b[0m\n\u001b[1;32m----> 8\u001b[1;33m \u001b[0mfitted_gaus_bias\u001b[0m \u001b[1;33m=\u001b[0m \u001b[0mgaus_fitter\u001b[0m\u001b[1;33m(\u001b[0m\u001b[0mgaus_guess\u001b[0m\u001b[1;33m,\u001b[0m \u001b[0mbin_midpoints\u001b[0m\u001b[1;33m[\u001b[0m\u001b[0mbias_range\u001b[0m\u001b[1;33m]\u001b[0m\u001b[1;33m,\u001b[0m \u001b[0mbin_heights\u001b[0m\u001b[1;33m[\u001b[0m\u001b[0mbias_range\u001b[0m\u001b[1;33m]\u001b[0m\u001b[1;33m)\u001b[0m\u001b[1;33m\u001b[0m\u001b[1;33m\u001b[0m\u001b[0m\n\u001b[0m\u001b[0;32m      9\u001b[0m \u001b[1;31m#print(fitted_gaus_bias)\u001b[0m\u001b[1;33m\u001b[0m\u001b[1;33m\u001b[0m\u001b[1;33m\u001b[0m\u001b[0m\n\u001b[0;32m     10\u001b[0m \u001b[1;31m#this works, it is returning ~ the correct answer\u001b[0m\u001b[1;33m\u001b[0m\u001b[1;33m\u001b[0m\u001b[1;33m\u001b[0m\u001b[0m\n",
      "\u001b[1;32m~\\anaconda3\\lib\\site-packages\\astropy\\modeling\\fitting.py\u001b[0m in \u001b[0;36mwrapper\u001b[1;34m(self, model, x, y, z, **kwargs)\u001b[0m\n\u001b[0;32m    182\u001b[0m         \u001b[1;32melse\u001b[0m\u001b[1;33m:\u001b[0m\u001b[1;33m\u001b[0m\u001b[1;33m\u001b[0m\u001b[0m\n\u001b[0;32m    183\u001b[0m \u001b[1;33m\u001b[0m\u001b[0m\n\u001b[1;32m--> 184\u001b[1;33m             \u001b[1;32mreturn\u001b[0m \u001b[0mfunc\u001b[0m\u001b[1;33m(\u001b[0m\u001b[0mself\u001b[0m\u001b[1;33m,\u001b[0m \u001b[0mmodel\u001b[0m\u001b[1;33m,\u001b[0m \u001b[0mx\u001b[0m\u001b[1;33m,\u001b[0m \u001b[0my\u001b[0m\u001b[1;33m,\u001b[0m \u001b[0mz\u001b[0m\u001b[1;33m=\u001b[0m\u001b[0mz\u001b[0m\u001b[1;33m,\u001b[0m \u001b[1;33m**\u001b[0m\u001b[0mkwargs\u001b[0m\u001b[1;33m)\u001b[0m\u001b[1;33m\u001b[0m\u001b[1;33m\u001b[0m\u001b[0m\n\u001b[0m\u001b[0;32m    185\u001b[0m \u001b[1;33m\u001b[0m\u001b[0m\n\u001b[0;32m    186\u001b[0m     \u001b[1;32mreturn\u001b[0m \u001b[0mwrapper\u001b[0m\u001b[1;33m\u001b[0m\u001b[1;33m\u001b[0m\u001b[0m\n",
      "\u001b[1;32m~\\anaconda3\\lib\\site-packages\\astropy\\modeling\\fitting.py\u001b[0m in \u001b[0;36m__call__\u001b[1;34m(self, model, x, y, z, weights, maxiter, acc, epsilon, estimate_jacobian)\u001b[0m\n\u001b[0;32m    885\u001b[0m             \u001b[0mdfunc\u001b[0m \u001b[1;33m=\u001b[0m \u001b[0mself\u001b[0m\u001b[1;33m.\u001b[0m\u001b[0m_wrap_deriv\u001b[0m\u001b[1;33m\u001b[0m\u001b[1;33m\u001b[0m\u001b[0m\n\u001b[0;32m    886\u001b[0m         \u001b[0minit_values\u001b[0m\u001b[1;33m,\u001b[0m \u001b[0m_\u001b[0m \u001b[1;33m=\u001b[0m \u001b[0m_model_to_fit_params\u001b[0m\u001b[1;33m(\u001b[0m\u001b[0mmodel_copy\u001b[0m\u001b[1;33m)\u001b[0m\u001b[1;33m\u001b[0m\u001b[1;33m\u001b[0m\u001b[0m\n\u001b[1;32m--> 887\u001b[1;33m         fitparams, cov_x, dinfo, mess, ierr = optimize.leastsq(\n\u001b[0m\u001b[0;32m    888\u001b[0m             \u001b[0mself\u001b[0m\u001b[1;33m.\u001b[0m\u001b[0mobjective_function\u001b[0m\u001b[1;33m,\u001b[0m \u001b[0minit_values\u001b[0m\u001b[1;33m,\u001b[0m \u001b[0margs\u001b[0m\u001b[1;33m=\u001b[0m\u001b[0mfarg\u001b[0m\u001b[1;33m,\u001b[0m \u001b[0mDfun\u001b[0m\u001b[1;33m=\u001b[0m\u001b[0mdfunc\u001b[0m\u001b[1;33m,\u001b[0m\u001b[1;33m\u001b[0m\u001b[1;33m\u001b[0m\u001b[0m\n\u001b[0;32m    889\u001b[0m             \u001b[0mcol_deriv\u001b[0m\u001b[1;33m=\u001b[0m\u001b[0mmodel_copy\u001b[0m\u001b[1;33m.\u001b[0m\u001b[0mcol_fit_deriv\u001b[0m\u001b[1;33m,\u001b[0m \u001b[0mmaxfev\u001b[0m\u001b[1;33m=\u001b[0m\u001b[0mmaxiter\u001b[0m\u001b[1;33m,\u001b[0m \u001b[0mepsfcn\u001b[0m\u001b[1;33m=\u001b[0m\u001b[0mepsilon\u001b[0m\u001b[1;33m,\u001b[0m\u001b[1;33m\u001b[0m\u001b[1;33m\u001b[0m\u001b[0m\n",
      "\u001b[1;32m~\\anaconda3\\lib\\site-packages\\scipy\\optimize\\minpack.py\u001b[0m in \u001b[0;36mleastsq\u001b[1;34m(func, x0, args, Dfun, full_output, col_deriv, ftol, xtol, gtol, maxfev, epsfcn, factor, diag)\u001b[0m\n\u001b[0;32m    412\u001b[0m \u001b[1;33m\u001b[0m\u001b[0m\n\u001b[0;32m    413\u001b[0m     \u001b[1;32mif\u001b[0m \u001b[0mn\u001b[0m \u001b[1;33m>\u001b[0m \u001b[0mm\u001b[0m\u001b[1;33m:\u001b[0m\u001b[1;33m\u001b[0m\u001b[1;33m\u001b[0m\u001b[0m\n\u001b[1;32m--> 414\u001b[1;33m         \u001b[1;32mraise\u001b[0m \u001b[0mTypeError\u001b[0m\u001b[1;33m(\u001b[0m\u001b[1;34m'Improper input: N=%s must not exceed M=%s'\u001b[0m \u001b[1;33m%\u001b[0m \u001b[1;33m(\u001b[0m\u001b[0mn\u001b[0m\u001b[1;33m,\u001b[0m \u001b[0mm\u001b[0m\u001b[1;33m)\u001b[0m\u001b[1;33m)\u001b[0m\u001b[1;33m\u001b[0m\u001b[1;33m\u001b[0m\u001b[0m\n\u001b[0m\u001b[0;32m    415\u001b[0m \u001b[1;33m\u001b[0m\u001b[0m\n\u001b[0;32m    416\u001b[0m     \u001b[1;32mif\u001b[0m \u001b[0mepsfcn\u001b[0m \u001b[1;32mis\u001b[0m \u001b[1;32mNone\u001b[0m\u001b[1;33m:\u001b[0m\u001b[1;33m\u001b[0m\u001b[1;33m\u001b[0m\u001b[0m\n",
      "\u001b[1;31mTypeError\u001b[0m: Improper input: N=3 must not exceed M=0"
     ]
    }
   ],
   "source": [
    "# Bias fit block\n",
    "\n",
    "gaus_guess = models.Gaussian1D(amplitude=max(hist), mean=bias, stddev=std_dev)\n",
    "#print(gaus_guess)\n",
    "gaus_fitter = fitting.LevMarLSQFitter()\n",
    "bias_range = np.where(bin_midpoints<bias + 6 * std_dev)\n",
    "\n",
    "fitted_gaus_bias = gaus_fitter(gaus_guess, bin_midpoints[bias_range], bin_heights[bias_range])\n",
    "#print(fitted_gaus_bias)\n",
    "#this works, it is returning ~ the correct answer\n",
    "\n",
    "x_bias = np.linspace(start = np.min(bin_boundaries[bias_range]), stop = np.max(bin_boundaries[bias_range]), num = 100,)\n",
    "\n",
    "plt.hist(flat_det, bins = num_bins)\n",
    "#plt.ylim(0, 250)\n",
    "plt.plot(bin_midpoints, bin_heights, \"D\") #this line puts the orange diamonds at the midpoint & top of every bar\n",
    "plt.plot(x_bias, fitted_gaus_bias(x_bias)) #this line adds green normal curve\n",
    "plt.xlim(bias-4*std_dev, bias+4*std_dev)\n",
    "plt.xlabel('electrons')\n",
    "plt.ylabel('number of pixels')\n",
    "plt.title('Bias curve: pixel size = ' + str(pix_L) + ' microns')\n",
    "plt.show();\n",
    "fitted_gaus_bias.amplitude, fitted_gaus_bias.mean, fitted_gaus_bias.stddev"
   ]
  },
  {
   "cell_type": "code",
   "execution_count": null,
   "metadata": {},
   "outputs": [],
   "source": [
    "#where bin_heights> 0\n",
    "bias_curve = fitted_gaus_bias(bin_midpoints)\n",
    "bin_heights = bin_heights - bias_curve\n",
    "bin_0_heights = np.where(bin_heights<0, 0, bin_heights)\n",
    "#plt.plot(bin_midpoints, bin_heights)\n",
    "plt.plot(bin_midpoints, bin_0_heights, color = 'green')\n",
    "plt.xlabel('electrons')\n",
    "plt.ylabel('number of pixels')\n",
    "plt.title('Signal curve: pixel size = ' + str(pix_L) + ' microns')"
   ]
  },
  {
   "cell_type": "code",
   "execution_count": null,
   "metadata": {},
   "outputs": [],
   "source": [
    "# Signal fit block\n",
    "signal_range = np.where(bias + 6 * std_dev<bin_midpoints)\n",
    "gaus_guess = models.Gaussian1D(amplitude=max(hist[80:]), mean=signal_mean, stddev=std_dev)\n",
    "fitted_gaus_signal = gaus_fitter(gaus_guess, bin_midpoints[signal_range], bin_heights[signal_range])\n",
    "x_signal = np.linspace(start = signal_mean-std_dev*6, stop = signal_mean+std_dev*6, num = 100,)\n",
    "#x_signal = np.linspace(start = np.min(signal_range), stop = np.max(signal_range), num = 100,)\n",
    "plt.hist(flat_det, bins = num_bins)\n",
    "#plt.ylim(0, 250)\n",
    "plt.plot(bin_midpoints, bin_heights, \"D\") #this line puts the orange diamonds at the midpoint & top of every bar\n",
    "plt.plot(x_signal, fitted_gaus_signal(x_signal)) #this line adds green normal curve\n",
    "plt.xlabel('electrons')\n",
    "plt.ylabel('number of pixels')\n",
    "plt.title('Signal curve: pixel size = ' + str(pix_L) + ' microns')\n",
    "plt.xlim(signal_mean-std_dev*10, signal_mean+std_dev*10)\n",
    "plt.ylim(0,max(hist[20:])+10)\n",
    "plt.show();\n",
    "fitted_gaus_signal.amplitude, fitted_gaus_signal.mean, fitted_gaus_signal.stddev"
   ]
  },
  {
   "cell_type": "code",
   "execution_count": null,
   "metadata": {},
   "outputs": [],
   "source": [
    "fit_mean_bias, fit_std_dev_bias = stats.distributions.norm.fit(flat_det[bias-4*std_dev : bias+4*std_dev])\n",
    "print(fit_mean_bias)\n",
    "print(fit_std_dev_bias)\n",
    "#these numbers represent the centroid of the \"bias bump\"\n",
    "#the slice should be from bias - 4*std_dev to bias+4*std_dev"
   ]
  },
  {
   "cell_type": "code",
   "execution_count": null,
   "metadata": {
    "scrolled": true
   },
   "outputs": [],
   "source": [
    "plt.hist(flat_det/gain, bins = num_bins)\n",
    "plt.ylim(0, 120)\n",
    "plt.xlabel('DN')\n",
    "#plt.legend()\n",
    "#plt.grid(True)\n",
    "plt.show();\n",
    "#we can get gain from this"
   ]
  },
  {
   "cell_type": "code",
   "execution_count": null,
   "metadata": {},
   "outputs": [],
   "source": [
    "if (np.sum(detector) == (e_per_photon*num_photon + bias*num_pix_x*num_pix_y)/gain):\n",
    "    print('no problem')\n",
    "else:\n",
    "    print('error: sum of detector did not result in expected value: actual sum of detector ' + (str(np.sum(detector))) + 'expected sum: ' + str((e_per_photon*num_photon + bias*num_pix_x*num_pix_y)/gain))"
   ]
  },
  {
   "cell_type": "code",
   "execution_count": null,
   "metadata": {},
   "outputs": [],
   "source": [
    "#the pix_L to e_cloud ratio makes the peak at lower charge\n",
    "#how much lower is this peak?? how much less is the centroid charge"
   ]
  },
  {
   "cell_type": "code",
   "execution_count": null,
   "metadata": {},
   "outputs": [],
   "source": []
  },
  {
   "cell_type": "code",
   "execution_count": null,
   "metadata": {},
   "outputs": [],
   "source": []
  },
  {
   "cell_type": "code",
   "execution_count": null,
   "metadata": {},
   "outputs": [],
   "source": []
  }
 ],
 "metadata": {
  "kernelspec": {
   "display_name": "Python 3",
   "language": "python",
   "name": "python3"
  },
  "language_info": {
   "codemirror_mode": {
    "name": "ipython",
    "version": 3
   },
   "file_extension": ".py",
   "mimetype": "text/x-python",
   "name": "python",
   "nbconvert_exporter": "python",
   "pygments_lexer": "ipython3",
   "version": "3.8.5"
  }
 },
 "nbformat": 4,
 "nbformat_minor": 4
}
