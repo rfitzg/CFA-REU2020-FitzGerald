{
 "cells": [
  {
   "cell_type": "markdown",
   "metadata": {},
   "source": [
    "Read in all libraries"
   ]
  },
  {
   "cell_type": "code",
   "execution_count": 1,
   "metadata": {},
   "outputs": [],
   "source": [
    "#all imports\n",
    "\n",
    "import numpy as np\n",
    "import random\n",
    "%matplotlib inline\n",
    "import matplotlib.pyplot as plt\n",
    "import matplotlib.image as mpimg\n",
    "import math\n",
    "import scipy\n",
    "import scipy.stats as stats\n",
    "import scipy.integrate\n",
    "from scipy.stats import norm\n",
    "from scipy.optimize import curve_fit\n",
    "import scipy.stats as scs\n",
    "from astropy.modeling import models, fitting"
   ]
  },
  {
   "cell_type": "markdown",
   "metadata": {},
   "source": [
    "Define all required functions.\n",
    "Note that I changed the rand_num_gen so that it will never return the first or last pixel"
   ]
  },
  {
   "cell_type": "code",
   "execution_count": 2,
   "metadata": {},
   "outputs": [],
   "source": [
    "def rand_num_gen():\n",
    "    #border: ln[3] was the original random_num_gen() \n",
    "    #border is the number of desired pixels/ number of required surrounding pixels based on electron cloud/ pixel length ratio\n",
    "    photon_x = random.uniform(border*pix_L, ((num_pix_x - border) * pix_L)) #microns\n",
    "    photon_y = random.uniform(border*pix_L, ((num_pix_x - border) * pix_L)) #microns\n",
    "    return photon_x, photon_y"
   ]
  },
  {
   "cell_type": "code",
   "execution_count": 3,
   "metadata": {},
   "outputs": [],
   "source": [
    "#def rand_num_gen():\n",
    "#    photon_x = random.random() * (num_pix_x) * pix_L + pix_L #microns\n",
    "#    photon_y = random.random() * (num_pix_y) * pix_L + pix_L #microns\n",
    "#    return photon_x, photon_y"
   ]
  },
  {
   "cell_type": "code",
   "execution_count": 4,
   "metadata": {},
   "outputs": [],
   "source": [
    "def find_closest_pix(photon_x, photon_y):\n",
    "    closest_pix_x = (np.where(np.abs(detector_x - photon_x) == np.min(np.abs(detector_x - photon_x))))[0]\n",
    "    closest_pix_x = closest_pix_x[0]\n",
    "    closest_pix_y = (np.where(np.abs(detector_y - photon_y) == np.min(np.abs(detector_y - photon_y))))[0]\n",
    "    closest_pix_y = closest_pix_y[0]\n",
    "    return(closest_pix_x, closest_pix_y)"
   ]
  },
  {
   "cell_type": "code",
   "execution_count": 5,
   "metadata": {},
   "outputs": [],
   "source": [
    "def ghost_cell():\n",
    "    if closest_pix_x < math.floor(num_pix_plt / 2) or closest_pix_y < math.floor(num_pix_plt / 2) or closest_pix_x > (num_pix_x - math.floor(num_pix_plt / 2)) or closest_pix_y > (num_pix_y - math.floor(num_pix_plt / 2)):\n",
    "        #xtr_)row/col is the number of rows or columns needed to fit the entire photon in the array\n",
    "        #xtr_row = xtr_col = (math.ceil((e_cloud * (1/2)) / pix_L)) defined at top\n",
    "        #redefine detector size to fit\n",
    "        detector = np.zeros((num_pix_x + xtr_row*2, num_pix_y + xtr_col*2))\n",
    "        detector_x = np.arange(num_pix_x + xtr_row) * pix_L + pix_half_L\n",
    "        detector_y = np.arange(num_pix_y + xtr_col) * pix_L + pix_half_L\n",
    "        return detector, detector_x, detector_y\n",
    "        print('photon fell too close to edge of detector for the graph we wrote to work. Added extra layer of dead pixels to help?')\n",
    "    else:\n",
    "        print('no imshow problems')"
   ]
  },
  {
   "cell_type": "code",
   "execution_count": 6,
   "metadata": {},
   "outputs": [],
   "source": [
    "def zero_ghost_cells():\n",
    "    if closest_pix_x < math.floor(num_pix_plt / 2) or closest_pix_y < math.floor(num_pix_plt / 2) or closest_pix_x > (num_pix_x - math.floor(num_pix_plt / 2)) or closest_pix_y > (num_pix_y - math.floor(num_pix_plt / 2)):\n",
    "        #they will be erased\n",
    "        #xtr_row = xtr_col = 2 * (math.ceil((e_cloud * (1/2)) / pix_L)) defined at top\n",
    "        detector[0:xtr_row,] = 0 #top\n",
    "        detector[-xtr_row:,] = 0 #bottom\n",
    "        detector[:,0:xtr_col] = 0 #left\n",
    "        detector[:,-xtr_col:] = 0 #right\n",
    "        print('photon fell too close to edge of detector. Brought ghost cell values to zero.')\n",
    "        return detector\n",
    "    else:\n",
    "        print('didnt work')"
   ]
  },
  {
   "cell_type": "code",
   "execution_count": 7,
   "metadata": {},
   "outputs": [],
   "source": [
    "def gaus_noise():\n",
    "    #np.random.normal(mean noise, std dev, size of array)\n",
    "    #had to make an if statement in case the array is larger for ghost cells\n",
    "    #if closest_pix_x < math.floor(num_pix_plt / 2) or closest_pix_y < math.floor(num_pix_plt / 2) or closest_pix_x > (num_pix_x - math.floor(num_pix_plt / 2)) or closest_pix_y > (num_pix_y - math.floor(num_pix_plt / 2)):\n",
    "    #    detector += np.random.normal(loc = mean, scale = std_dev, size = (num_pix_x + xtr_row * 2, num_pix_y + xtr_col *2))\n",
    "    #else:\n",
    "    #loc = mean\n",
    "    noise_array = np.random.normal(loc = mean, scale = std_dev, size = (num_pix_x, num_pix_y))\n",
    "    return noise_array"
   ]
  },
  {
   "cell_type": "code",
   "execution_count": 8,
   "metadata": {},
   "outputs": [],
   "source": [
    "def integrate_setup():\n",
    "#Whenever you see an error that include 'NoneType' that means that you have an operand or an object that is None when you were expecting something else.\n",
    "#num_subpix is the number in x & y (rows and columns) they are always equal because the photon will always be a circle\n",
    "    #subpix_x_cen, subpix_y_cen, subpix_z_cen, subpix_arr = integrate_setup()\n",
    "    subpix_arr = np.zeros((num_subpix_x, num_subpix_y, num_subpix_z))\n",
    "    subpix_x_cen = np.arange(num_subpix_x) * subpix_L + (detector_x[int(closest_pix_x - start_pix)] - pix_half_L) + subpix_L\n",
    "    subpix_y_cen = np.arange(num_subpix_y) * subpix_L + (detector_y[int(closest_pix_y - start_pix)] - pix_half_L) + subpix_L  \n",
    "    subpix_z_cen = np.arange(num_subpix_z) * subpix_L\n",
    "    return subpix_arr, subpix_x_cen, subpix_y_cen, subpix_z_cen"
   ]
  },
  {
   "cell_type": "code",
   "execution_count": 9,
   "metadata": {},
   "outputs": [],
   "source": [
    "#this can hypothitically done at the beginning (or anywhere before the plot really...)\n",
    "#this function does not rely on any other functions -- it will also remain the same for the same pixel/e_cloud sizes\n",
    "def find_num_pix_plt(num_pix_plt):\n",
    "    if num_pix_plt % 2 == 0:\n",
    "        num_pix_plt += 3\n",
    "    else:\n",
    "        num_pix_plt += 2\n",
    "    return num_pix_plt"
   ]
  },
  {
   "cell_type": "code",
   "execution_count": 10,
   "metadata": {},
   "outputs": [],
   "source": [
    "def sphere_integrate(subpix_x_cen, subpix_y_cen, subpix_z_cen):\n",
    "    for i in range(num_subpix_x):\n",
    "        for j in range(num_subpix_y):\n",
    "            for k in range(num_subpix_z):\n",
    "                dist_cen_photon = np.sqrt((subpix_x_cen[i] - photon_x)**2 + \\\n",
    "                                                (subpix_y_cen[j] - photon_y)**2 + \\\n",
    "                                                (subpix_z_cen[k] - photon_z)**2)\n",
    "#the entire electron will be contained within a pixel if the distance from center of photon is less than half the e_cloud diameter\n",
    "                if dist_cen_photon < e_cloud / 2:\n",
    "                    subpix_arr[i,j,k] = 1\n",
    "    return subpix_arr\n",
    "#dist_cen_photon = sphere_integrate(subpix_x_cen, subpix_y_cen, subpix_z_cen)"
   ]
  },
  {
   "cell_type": "code",
   "execution_count": 11,
   "metadata": {},
   "outputs": [],
   "source": [
    "def each_pix_e(closest_pix_x, closest_pix_y):\n",
    "    for ii in range(int(closest_pix_x - start_pix), int(closest_pix_x + (num_pix_plt - start_pix))):\n",
    "        for jj in range(int(closest_pix_y - start_pix), int(closest_pix_y + (num_pix_plt - start_pix))):\n",
    "            left_edge = edge_x[ii]\n",
    "            right_edge = edge_x[ii + 1] \n",
    "            bottom_edge = edge_y[jj]\n",
    "            top_edge = edge_y[jj + 1] \n",
    "            #gives us 1st element to sum over\n",
    "            #>= <= allows us to account for the pixels landing on the edge\n",
    "            match_x0 = np.where (subpix_x_cen >= left_edge)[0][0]\n",
    "            #[0][-1] -1 means take the last numbre of the array\n",
    "            match_x1 = np.where (subpix_x_cen <= right_edge)[0][-1]\n",
    "            match_y0 = np.where (subpix_y_cen >= bottom_edge)[0][0]\n",
    "            match_y1 = np.where (subpix_y_cen <= top_edge)[0][-1]\n",
    "            this_pct = np.sum(img[match_x0:match_x1, match_y0:match_y1]) / np.sum(img)\n",
    "            #with more photons continue to += \n",
    "            detector[ii, jj] += this_pct * e_per_photon\n",
    "            #print(detector[ii,jj])"
   ]
  },
  {
   "cell_type": "code",
   "execution_count": 12,
   "metadata": {},
   "outputs": [],
   "source": [
    "#imgplot is a zoomed in 2D visualization of a 3D photon hitting the sensor\n",
    "#this cell is making the imshow graph/ image\n",
    "#img = is the integration #voxel = 3D pixel\n",
    "\n",
    "def e_cloud_plt():\n",
    "    subpix_arr = integrate_setup()\n",
    "    img = np.sum(subpix_arr, axis=0)\n",
    "    imgplot = plt.imshow(img)\n",
    "    plt.grid(True)\n",
    "    plt.axis([0, num_subpix_x , 0, num_subpix_y])\n",
    "    #subpix size tells the program how exact we want our calculations. how many pieces of the pixel are we accounting for\n",
    "    #*** shows 90 as past the border. also check the subpix defined edges, why not just full pixels?\n",
    "    plt.title('Magnified detector showing where photon hit')\n",
    "    plt.xlabel('number of subpixels')\n",
    "    plt.ylabel('number of subpixels')\n",
    "    plt.axis(aspect = 'img')\n",
    "    ax = plt.gca()\n",
    "    ax.set_xticks(np.arange(0, num_subpix_x, num_subpix_x / num_pix_plt))\n",
    "    ax.set_yticks(np.arange(0, num_subpix_y, num_subpix_y / num_pix_plt))\n",
    "    plt.colorbar(label='Number of Electrons (charge)')\n",
    "    plt.show()\n",
    "    return img, imgplot\n"
   ]
  },
  {
   "cell_type": "code",
   "execution_count": 13,
   "metadata": {},
   "outputs": [],
   "source": [
    "def delete_ghost():\n",
    "    if closest_pix_x < math.floor(num_pix_plt / 2) or closest_pix_y < math.floor(num_pix_plt / 2) or closest_pix_x > (num_pix_x - math.floor(num_pix_plt / 2)) or closest_pix_y > (num_pix_y - math.floor(num_pix_plt / 2)):\n",
    "        #axis : Axis along which we want to delete. If 1 then dlete columns, if 0 then delete rows and if None then app4ly delete on flattened array.\n",
    "        np.delete(detector, [0,xtr_row], axis = 0) #top\n",
    "        np.delete(detector, [num_pix_x+xtr_row*2-xtr_row,], axis = 0) #bottom\n",
    "        np.delete(detector, [0,xtr_col], axis = 1) #left\n",
    "        np.delete(detector, [num_pix_x+xtr_col*2-xtr_col,], axis = 1) #right\n",
    "        return detector\n",
    "    else:\n",
    "        None"
   ]
  },
  {
   "cell_type": "markdown",
   "metadata": {},
   "source": [
    "Set up specific variables for hte run"
   ]
  },
  {
   "cell_type": "code",
   "execution_count": 14,
   "metadata": {},
   "outputs": [],
   "source": [
    "pix_L = 15 #microns\n",
    "pix_half_L = pix_L / 2\n",
    "num_pix_x = 100\n",
    "num_pix_y = 100\n",
    "e_per_photon = 1500 #electrons\n",
    "subpix_L = 1 #microns #this number just determines the img quality (how pixellated)\n",
    "e_cloud = 5 #microns diameter\n",
    "gain = 2 #electrons/DN\n",
    "#this is the number of desired photons hitting the detector,\n",
    "num_photon = 1000 #how many photons do you want to hit the sensor\n",
    "bias = 1000 #electrons base voltage\n",
    "mean = 0 #for histogram gaus distribution\n",
    "std_dev = 25 #gaussian noise added to each pixel np.random.normal = gaussian could also name this variable g_noise\n",
    "photon_z = int(e_cloud / 2) +2 #***will eventually be changed\n",
    "xtr_row = xtr_col = math.ceil((e_cloud * (1/2)) / pix_L)\n",
    "num_pix_plt = find_num_pix_plt(math.ceil(e_cloud / pix_L))\n",
    "#num_pix_plt = math.ceil(e_cloud / pix_L)\n",
    "border = math.floor(num_pix_plt / 2) #this shows us the minimum border needed so the pixels don't get cut off\n",
    "#the border wasnt really the problem, but it could be, so applying minimum border\n",
    "start_pix = (num_pix_plt - 1) / 2\n",
    "num_subpix = num_subpix_x = num_subpix_y = round((pix_L * num_pix_plt) / subpix_L)\n",
    "num_subpix_z = photon_z * 2 #*** will need to be fixed/removed later"
   ]
  },
  {
   "cell_type": "code",
   "execution_count": 15,
   "metadata": {},
   "outputs": [],
   "source": [
    "#defining initial array representation of detector\n",
    "#this does not need to be a function: everything is applied to this single detector:\n",
    "detector = np.zeros((num_pix_x, num_pix_y))\n",
    "detector_x = np.arange(num_pix_x) * pix_L + pix_half_L\n",
    "detector_y = np.arange(num_pix_y) * pix_L + pix_half_L\n",
    "cen_x = np.arange(num_pix_x) * pix_L + pix_half_L\n",
    "cen_y = np.arange(num_pix_y) * pix_L + pix_half_L\n",
    "edge_x = np.arange(num_pix_x + 1) * pix_L\n",
    "edge_y = np.arange(num_pix_y + 1) * pix_L"
   ]
  },
  {
   "cell_type": "code",
   "execution_count": 16,
   "metadata": {
    "scrolled": true
   },
   "outputs": [
    {
     "name": "stdout",
     "output_type": "stream",
     "text": [
      "1500000.0\n"
     ]
    },
    {
     "data": {
      "image/png": "[encoded data removed]",
      "text/plain": [
       "<Figure size 432x288 with 1 Axes>"
      ]
     },
     "metadata": {
      "needs_background": "light"
     },
     "output_type": "display_data"
    }
   ],
   "source": [
    "for ph in range(0,num_photon):\n",
    "    photon_x, photon_y = rand_num_gen()\n",
    "    closest_pix_x, closest_pix_y = find_closest_pix(photon_x, photon_y)\n",
    "    #print((closest_pix_x, closest_pix_y))\n",
    "    subpix_arr, subpix_x_cen, subpix_y_cen, subpix_z_cen = integrate_setup()\n",
    "    subpix_arr = sphere_integrate(subpix_x_cen, subpix_y_cen, subpix_z_cen)\n",
    "    img = (np.sum(subpix_arr,axis=2))\n",
    "    plt.imshow(img)\n",
    "    each_pix_e(closest_pix_x, closest_pix_y)\n",
    "print(np.sum(detector))"
   ]
  },
  {
   "cell_type": "code",
   "execution_count": 17,
   "metadata": {},
   "outputs": [
    {
     "name": "stdout",
     "output_type": "stream",
     "text": [
      "No rounding error. total number of electrons = 1500000\n"
     ]
    }
   ],
   "source": [
    "check_tot_e = np.sum(detector) #+ bias * num_pix_x **2\n",
    "if (check_tot_e == e_per_photon*num_photon):\n",
    "    print('No rounding error. total number of electrons = ' + str(e_per_photon * num_photon))\n",
    "else:\n",
    "    print('***ROUNDING ERROR: total number of electrons is != ' + str(e_per_photon * num_photon) + \". It is = \" + str(check_tot_e))"
   ]
  },
  {
   "cell_type": "code",
   "execution_count": 18,
   "metadata": {},
   "outputs": [],
   "source": [
    "#adds the chosen bias to every value in the detector\n",
    "for ii in range(num_pix_x):\n",
    "    for jj in range (num_pix_y):\n",
    "        detector[ii,jj] = detector[ii,jj] + bias \n",
    "#plt.imshow(detector)\n",
    "#help(detector)"
   ]
  },
  {
   "cell_type": "code",
   "execution_count": 19,
   "metadata": {},
   "outputs": [],
   "source": [
    "#adds gaussian noise with chosen standard deviation and mean (centroid)\n",
    "noise_array = gaus_noise()\n",
    "detector = detector + noise_array"
   ]
  },
  {
   "cell_type": "code",
   "execution_count": 20,
   "metadata": {},
   "outputs": [
    {
     "data": {
      "image/png": "[encoded data removed]",
      "text/plain": [
       "<Figure size 432x288 with 2 Axes>"
      ]
     },
     "metadata": {
      "needs_background": "light"
     },
     "output_type": "display_data"
    }
   ],
   "source": [
    "#to make this plot correctly we needeed to define the ticks as a LIST\n",
    "x_tick_label = (np.arange(0, num_pix_x+1, step = 10))\n",
    "y_tick_label = (np.arange(0, num_pix_y+1, step = 10))\n",
    "x_tick_label.tolist()\n",
    "\n",
    "plt.imshow(detector)\n",
    "plt.axis([0, num_pix_plt, 0, num_pix_plt])\n",
    "plt.title('Full detector showing value in each pixel')\n",
    "plt.xlabel('pixel')\n",
    "plt.ylabel('pixel')\n",
    "plt.colorbar(label='Number of Electrons')\n",
    "#plt.axis(aspect = 'img')\n",
    "ax = plt.gca()\n",
    "plt.xticks(x_tick_label)\n",
    "plt.yticks(y_tick_label)\n",
    "plt.xlim(0,num_pix_x)\n",
    "plt.ylim(0,num_pix_y)\n",
    "ax.set_xticklabels(x_tick_label)\n",
    "ax.set_yticklabels(y_tick_label)\n",
    "plt.show();\n",
    "#after converted to data number\n",
    "#descretize/ digitize\n",
    "#tot # of charge has to be int\n",
    "#ask amy if we want to >1 or >1.4 etc\n",
    "#(math.ceil)\n",
    "#this is what the gain conv does!"
   ]
  },
  {
   "cell_type": "code",
   "execution_count": 21,
   "metadata": {},
   "outputs": [
    {
     "name": "stdout",
     "output_type": "stream",
     "text": [
      "error: sum of detector did not result in expected value: actual sum of detector 11498536.413075976 expected sum: 11500000 + gaussian noise.\n"
     ]
    }
   ],
   "source": [
    "if (np.sum(detector) == (e_per_photon*num_photon + bias*num_pix_x*num_pix_y)):\n",
    "    print('no problem')\n",
    "else:\n",
    "    print('error: sum of detector did not result in expected value: actual sum of detector ' + (str(np.sum(detector))) + ' expected sum: ' + str((e_per_photon*num_photon + bias*num_pix_x*num_pix_y)) + ' + gaussian noise.')"
   ]
  },
  {
   "cell_type": "code",
   "execution_count": 22,
   "metadata": {},
   "outputs": [],
   "source": [
    "#we need to flatten the detector bc it is a 3D array \n",
    "flat_det = detector.flatten() \n",
    "bin_div = 5\n",
    "#***ask if this is OK? can we have different bin sizes?\n",
    "num_bins = int(((bias+4*std_dev+e_per_photon) - (bias-4*std_dev)) / bin_div)\n",
    "#effectively range of the detector / bin_divisor"
   ]
  },
  {
   "cell_type": "code",
   "execution_count": 50,
   "metadata": {},
   "outputs": [
    {
     "data": {
      "image/png": "[encoded data removed]",
      "text/plain": [
       "<Figure size 432x288 with 1 Axes>"
      ]
     },
     "metadata": {
      "needs_background": "light"
     },
     "output_type": "display_data"
    }
   ],
   "source": [
    "bin_heights, bin_boundaries, _ = plt.hist(flat_det, bins = num_bins)\n",
    "plt.xlabel('electrons')\n",
    "plt.ylabel('number of pixels')\n",
    "plt.show();\n",
    "\n",
    "all_but_first = bin_boundaries[1:]\n",
    "all_but_last = bin_boundaries[:-1]  \n",
    "\n",
    "bin_midpoints = (all_but_first + all_but_last) / 2\n",
    "#full histogram with bias and signal bumps"
   ]
  },
  {
   "cell_type": "code",
   "execution_count": 54,
   "metadata": {},
   "outputs": [
    {
     "name": "stdout",
     "output_type": "stream",
     "text": [
      "Model: Gaussian1D\n",
      "Inputs: ('x',)\n",
      "Outputs: ('y',)\n",
      "Model set size: 1\n",
      "Parameters:\n",
      "    amplitude  mean  stddev\n",
      "    --------- ------ ------\n",
      "       1700.0 1000.0   25.0\n",
      "Model: Gaussian1D\n",
      "Inputs: ('x',)\n",
      "Outputs: ('y',)\n",
      "Model set size: 1\n",
      "Parameters:\n",
      "        amplitude             mean              stddev     \n",
      "    ------------------ ------------------ -----------------\n",
      "    1817.9464589256947 1000.2076782058252 25.39337774001558\n",
      "[ 902.31535992  904.61953826  906.9237166   909.22789495  911.53207329\n",
      "  913.83625163  916.14042997  918.44460831  920.74878665  923.05296499\n",
      "  925.35714334  927.66132168  929.96550002  932.26967836  934.5738567\n",
      "  936.87803504  939.18221338  941.48639173  943.79057007  946.09474841\n",
      "  948.39892675  950.70310509  953.00728343  955.31146178  957.61564012\n",
      "  959.91981846  962.2239968   964.52817514  966.83235348  969.13653182\n",
      "  971.44071017  973.74488851  976.04906685  978.35324519  980.65742353\n",
      "  982.96160187  985.26578021  987.56995856  989.8741369   992.17831524\n",
      "  994.48249358  996.78667192  999.09085026 1001.39502861 1003.69920695\n",
      " 1006.00338529 1008.30756363 1010.61174197 1012.91592031 1015.22009865\n",
      " 1017.524277   1019.82845534 1022.13263368 1024.43681202 1026.74099036\n",
      " 1029.0451687  1031.34934705 1033.65352539 1035.95770373 1038.26188207\n",
      " 1040.56606041 1042.87023875 1045.17441709 1047.47859544 1049.78277378\n",
      " 1052.08695212 1054.39113046 1056.6953088  1058.99948714 1061.30366548\n",
      " 1063.60784383 1065.91202217 1068.21620051 1070.52037885 1072.82455719\n",
      " 1075.12873553 1077.43291388 1079.73709222 1082.04127056 1084.3454489\n",
      " 1086.64962724 1088.95380558 1091.25798392 1093.56216227 1095.86634061\n",
      " 1098.17051895 1100.47469729 1102.77887563 1105.08305397 1107.38723231\n",
      " 1109.69141066 1111.995589   1114.29976734 1116.60394568 1118.90812402\n",
      " 1121.21230236 1123.51648071 1125.82065905 1128.12483739 1130.42901573]\n"
     ]
    },
    {
     "data": {
      "text/plain": [
       "(900, 1100)"
      ]
     },
     "execution_count": 54,
     "metadata": {},
     "output_type": "execute_result"
    },
    {
     "data": {
      "image/png": "[encoded data removed]",
      "text/plain": [
       "<Figure size 432x288 with 1 Axes>"
      ]
     },
     "metadata": {
      "needs_background": "light"
     },
     "output_type": "display_data"
    }
   ],
   "source": [
    "# Bias fit block\n",
    "\n",
    "gaus_guess = models.Gaussian1D(amplitude=1700, mean=bias, stddev=std_dev)\n",
    "print(gaus_guess)\n",
    "gaus_fitter = fitting.LevMarLSQFitter()\n",
    "bias_range = np.where(bin_midpoints<bias + 6 * std_dev)\n",
    "\n",
    "fitted_gaus_bias = gaus_fitter(gaus_guess, bin_midpoints[bias_range], bin_heights[bias_range])\n",
    "print(fitted_gaus_bias)\n",
    "#this works, it is returning ~ the correct answer\n",
    "\n",
    "x_bias = np.linspace(start = np.min(bin_boundaries[bias_range]), stop = np.max(bin_boundaries[bias_range]), num = 100,)\n",
    "\n",
    "plt.hist(flat_det, bins = num_bins)\n",
    "#plt.ylim(0, 250)\n",
    "plt.plot(bin_midpoints, bin_heights, \"D\") #this line puts the orange diamonds at the midpoint & top of every bar\n",
    "plt.plot(x_bias, fitted_gaus_bias(x_bias)) #this line adds green normal curve\n",
    "plt.xlabel('electrons')\n",
    "plt.ylabel('number of pixels')\n",
    "print(x_bias)\n",
    "plt.xlim(bias-4*std_dev, bias+4*std_dev)"
   ]
  },
  {
   "cell_type": "code",
   "execution_count": 57,
   "metadata": {},
   "outputs": [
    {
     "name": "stdout",
     "output_type": "stream",
     "text": [
      "Model: Gaussian1D\n",
      "Inputs: ('x',)\n",
      "Outputs: ('y',)\n",
      "Model set size: 1\n",
      "Parameters:\n",
      "       amplitude            mean             stddev      \n",
      "    ---------------- ----------------- ------------------\n",
      "    95.3137877273573 2497.598950576954 28.899225268876716\n",
      "[ 902.31535992  904.61953826  906.9237166   909.22789495  911.53207329\n",
      "  913.83625163  916.14042997  918.44460831  920.74878665  923.05296499\n",
      "  925.35714334  927.66132168  929.96550002  932.26967836  934.5738567\n",
      "  936.87803504  939.18221338  941.48639173  943.79057007  946.09474841\n",
      "  948.39892675  950.70310509  953.00728343  955.31146178  957.61564012\n",
      "  959.91981846  962.2239968   964.52817514  966.83235348  969.13653182\n",
      "  971.44071017  973.74488851  976.04906685  978.35324519  980.65742353\n",
      "  982.96160187  985.26578021  987.56995856  989.8741369   992.17831524\n",
      "  994.48249358  996.78667192  999.09085026 1001.39502861 1003.69920695\n",
      " 1006.00338529 1008.30756363 1010.61174197 1012.91592031 1015.22009865\n",
      " 1017.524277   1019.82845534 1022.13263368 1024.43681202 1026.74099036\n",
      " 1029.0451687  1031.34934705 1033.65352539 1035.95770373 1038.26188207\n",
      " 1040.56606041 1042.87023875 1045.17441709 1047.47859544 1049.78277378\n",
      " 1052.08695212 1054.39113046 1056.6953088  1058.99948714 1061.30366548\n",
      " 1063.60784383 1065.91202217 1068.21620051 1070.52037885 1072.82455719\n",
      " 1075.12873553 1077.43291388 1079.73709222 1082.04127056 1084.3454489\n",
      " 1086.64962724 1088.95380558 1091.25798392 1093.56216227 1095.86634061\n",
      " 1098.17051895 1100.47469729 1102.77887563 1105.08305397 1107.38723231\n",
      " 1109.69141066 1111.995589   1114.29976734 1116.60394568 1118.90812402\n",
      " 1121.21230236 1123.51648071 1125.82065905 1128.12483739 1130.42901573]\n"
     ]
    },
    {
     "data": {
      "text/plain": [
       "(0, 200)"
      ]
     },
     "execution_count": 57,
     "metadata": {},
     "output_type": "execute_result"
    },
    {
     "data": {
      "image/png": "[encoded data removed]",
      "text/plain": [
       "<Figure size 432x288 with 1 Axes>"
      ]
     },
     "metadata": {
      "needs_background": "light"
     },
     "output_type": "display_data"
    }
   ],
   "source": [
    "# Signal fit block\n",
    "\n",
    "signal_range = np.where(bias + 6 * std_dev<bin_midpoints)\n",
    "gaus_guess = models.Gaussian1D(amplitude=100, mean=2500, stddev=std_dev)\n",
    "fitted_gaus_signal = gaus_fitter(gaus_guess, bin_midpoints[signal_range], bin_heights[signal_range])\n",
    "print(fitted_gaus_signal)\n",
    "x_signal = np.linspace(start = 2200, stop = 2800, num = 100,)\n",
    "\n",
    "plt.hist(flat_det, bins = num_bins)\n",
    "#plt.ylim(0, 250)\n",
    "plt.plot(bin_midpoints, bin_heights, \"D\") #this line puts the orange diamonds at the midpoint & top of every bar\n",
    "plt.plot(x_signal, fitted_gaus_signal(x_signal)) #this line adds green normal curve\n",
    "plt.xlabel('electrons')\n",
    "plt.ylabel('number of pixels')\n",
    "print(x_bias)\n",
    "plt.xlim(2200,2800)\n",
    "plt.ylim(0,200)"
   ]
  },
  {
   "cell_type": "code",
   "execution_count": 36,
   "metadata": {},
   "outputs": [
    {
     "name": "stdout",
     "output_type": "stream",
     "text": [
      "1825\n",
      "97\n"
     ]
    }
   ],
   "source": [
    "hist, bin_edges = np.histogram(flat_det, bins=num_bins)\n",
    "hist\n",
    "print(max(hist))\n",
    "#print(hist)\n",
    "#print(bin_edges)\n",
    "print(max(hist[15:]))"
   ]
  },
  {
   "cell_type": "code",
   "execution_count": 38,
   "metadata": {},
   "outputs": [
    {
     "name": "stdout",
     "output_type": "stream",
     "text": [
      "[ 902.31535992  948.39892675  994.48249358 1040.56606041 1086.64962724\n",
      " 1132.73319407 1178.8167609  1224.90032773 1270.98389456 1317.06746139\n",
      " 1363.15102822 1409.23459505 1455.31816188 1501.40172871 1547.48529554\n",
      " 1593.56886237 1639.6524292  1685.73599603 1731.81956286 1777.90312969\n",
      " 1823.98669652 1870.07026335 1916.15383018 1962.23739701 2008.32096385\n",
      " 2054.40453068 2100.48809751 2146.57166434 2192.65523117 2238.738798\n",
      " 2284.82236483 2330.90593166 2376.98949849 2423.07306532 2469.15663215\n",
      " 2515.24019898 2561.32376581 2607.40733264 2653.49089947 2699.5744663\n",
      " 2745.65803313 2791.74159996 2837.82516679 2883.90873362 2929.99230045\n",
      " 2976.07586728 3022.15943411 3068.24300094 3114.32656777 3160.4101346\n",
      " 3206.49370143 3252.57726826 3298.66083509 3344.74440192 3390.82796875\n",
      " 3436.91153558 3482.99510241 3529.07866924 3575.16223607 3621.2458029\n",
      " 3667.32936973 3713.41293656 3759.49650339 3805.58007022 3851.66363705\n",
      " 3897.74720388 3943.83077071 3989.91433754 4035.99790437 4082.0814712\n",
      " 4128.16503803 4174.24860486 4220.33217169 4266.41573852 4312.49930535\n",
      " 4358.58287218 4404.66643901 4450.75000585 4496.83357268 4542.91713951\n",
      " 4589.00070634 4635.08427317 4681.16784    4727.25140683 4773.33497366\n",
      " 4819.41854049 4865.50210732 4911.58567415 4957.66924098 5003.75280781\n",
      " 5049.83637464 5095.91994147 5142.0035083  5188.08707513 5234.17064196\n",
      " 5280.25420879 5326.33777562 5372.42134245 5418.50490928 5464.58847611]\n"
     ]
    },
    {
     "data": {
      "image/png": "[encoded data removed]",
      "text/plain": [
       "<Figure size 432x288 with 1 Axes>"
      ]
     },
     "metadata": {
      "needs_background": "light"
     },
     "output_type": "display_data"
    },
    {
     "data": {
      "text/plain": [
       "(Parameter('amplitude', value=1817.9522173690666),\n",
       " Parameter('mean', value=1000.2076379916267),\n",
       " Parameter('stddev', value=25.393207897966526, bounds=(1.1754943508222875e-38, None)))"
      ]
     },
     "execution_count": 38,
     "metadata": {},
     "output_type": "execute_result"
    }
   ],
   "source": [
    "bin_heights_sign, bin_boundaries_sign, _ = p\n",
    "\n",
    "#plt.ylim(0, max(hist)+50)\n",
    "plt.show();\n",
    "#Fig below is zoomed in to see the signal peak\n",
    "#it also has a different number of bins bc depending on which peak we look at\n",
    "#***ask if this is OK? can we have different bin sizes?\n",
    "#We define the bias +gaus noise curve to be +- 4 std_dev\n",
    "#graph below shows the data between +- 4*std_dev and plots a normal curve on it\n",
    "fitted_gaus_bias.amplitude, fitted_gaus_bias.mean, fitted_gaus_bias.stddev"
   ]
  },
  {
   "cell_type": "code",
   "execution_count": null,
   "metadata": {},
   "outputs": [],
   "source": [
    "#norm_bias = np.linspace(bias - 4 * std_dev, bias + 4 * std_dev, 100)\n",
    "#plt.plot(norm_bias, height_bias* stats.norm.pdf(norm_bias, bias, std_dev))\n",
    "#norm_signal = np.linspace(bias + e_per_photon - 4 * std_dev, bias + e_per_photon + 4 * std_dev, 100)\n",
    "#plt.plot(norm_signal, (height_signal* stats.norm.pdf(norm_signal, bias + e_per_photon, std_dev)))\n",
    "plt.hist(flat_det, bins = num_bins)\n",
    "plt.plot(bin_midpoints, bin_heights, \"D\")\n",
    "plt.plot(x_signal, fitted_gaus_signal(x_signal))\n",
    "#plt.xlim(bias+4*std_dev, bias+e_per_photon+6*std_dev)\n",
    "plt.xlim(2400, 2600)\n",
    "plt.ylim(0, max(hist[13:])+10)\n",
    "plt.xlabel('electrons')\n",
    "plt.ylabel('number of pixels')\n",
    "plt.show();\n",
    "fitted_gaus_signal.amplitude, fitted_gaus_signal.mean, fitted_gaus_signal.stddev\n",
    "#This plot is the \n",
    "#>6sigma\n",
    "#different bin size\n",
    "#what would you do to get the gain from hist?"
   ]
  },
  {
   "cell_type": "code",
   "execution_count": null,
   "metadata": {},
   "outputs": [],
   "source": [
    "#fit_mean_bias, fit_std_dev_bias = stats.distributions.norm.fit(flat_det[900 : 1100]) rough estimate for std_dev = 25\n",
    "fit_mean_bias, fit_std_dev_bias = stats.distributions.norm.fit(flat_det[bias-4*std_dev : bias+4*std_dev])\n",
    "print(fit_mean_bias)\n",
    "print(fit_std_dev_bias)\n",
    "#these numbers represent the centroid of the \"bias bump\"\n",
    "#the slice should be from bias - 4*std_dev to bias+4*std_dev"
   ]
  },
  {
   "cell_type": "code",
   "execution_count": null,
   "metadata": {},
   "outputs": [],
   "source": [
    "fit_mean_signal, fit_std_dev_signal = stats.distributions.norm.fit(flat_det[(bias+e_per_photon)-3*std_dev : (bias+e_per_photon)+3*std_dev])\n",
    "print(bias+e_per_photon)\n",
    "print(3*std_dev)\n",
    "print(fit_mean_signal)\n",
    "print(fit_std_dev_signal)\n",
    "print(flat_det[(bias+e_per_photon)-3*std_dev : (bias+e_per_photon)+3*std_dev])"
   ]
  },
  {
   "cell_type": "code",
   "execution_count": null,
   "metadata": {
    "scrolled": true
   },
   "outputs": [],
   "source": [
    "plt.hist(flat_det/gain, bins = num_bins)\n",
    "norm_bias = np.linspace(bias - 4 * std_dev, bias + 4 * std_dev, 100)\n",
    "#plt.plot(norm_bias, height_bias* stats.norm.pdf(norm_bias, bias, std_dev))\n",
    "norm_signal = np.linspace(bias + e_per_photon - 4 * std_dev, bias + e_per_photon + 4 * std_dev, 100)\n",
    "#plt.plot(norm_signal, (height_signal* stats.norm.pdf(norm_signal, bias + e_per_photon, std_dev)))\n",
    "plt.ylim(0, 60)\n",
    "plt.xlabel('DN')\n",
    "#plt.legend()\n",
    "#plt.grid(True)\n",
    "plt.show();\n",
    "#we can get gain from this"
   ]
  },
  {
   "cell_type": "code",
   "execution_count": null,
   "metadata": {},
   "outputs": [],
   "source": [
    "if (np.sum(detector) == (e_per_photon*num_photon + bias*num_pix_x*num_pix_y)/gain):\n",
    "    print('no problem')\n",
    "else:\n",
    "    print('error: sum of detector did not result in expected value: actual sum of detector ' + (str(np.sum(detector))) + 'expected sum: ' + str((e_per_photon*num_photon + bias*num_pix_x*num_pix_y)/gain))"
   ]
  }
 ],
 "metadata": {
  "kernelspec": {
   "display_name": "Python 3",
   "language": "python",
   "name": "python3"
  },
  "language_info": {
   "codemirror_mode": {
    "name": "ipython",
    "version": 3
   },
   "file_extension": ".py",
   "mimetype": "text/x-python",
   "name": "python",
   "nbconvert_exporter": "python",
   "pygments_lexer": "ipython3",
   "version": "3.7.4"
  }
 },
 "nbformat": 4,
 "nbformat_minor": 2
}
