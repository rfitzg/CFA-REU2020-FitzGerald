{
 "cells": [
  {
   "cell_type": "code",
   "execution_count": 1,
   "metadata": {},
   "outputs": [],
   "source": [
    "import numpy as np"
   ]
  },
  {
   "cell_type": "code",
   "execution_count": 2,
   "metadata": {},
   "outputs": [],
   "source": [
    "detector_array = np.zeros((500, 500))\n",
    "#this shows a 2 dimensional array with 500 cells in each direction"
   ]
  },
  {
   "cell_type": "code",
   "execution_count": 3,
   "metadata": {},
   "outputs": [
    {
     "name": "stdout",
     "output_type": "stream",
     "text": [
      "[[0. 0. 0. ... 0. 0. 0.]\n",
      " [0. 0. 0. ... 0. 0. 0.]\n",
      " [0. 0. 0. ... 0. 0. 0.]\n",
      " ...\n",
      " [0. 0. 0. ... 0. 0. 0.]\n",
      " [0. 0. 0. ... 0. 0. 0.]\n",
      " [0. 0. 0. ... 0. 0. 0.]]\n"
     ]
    }
   ],
   "source": [
    "print(detector_array)"
   ]
  },
  {
   "cell_type": "code",
   "execution_count": 4,
   "metadata": {},
   "outputs": [],
   "source": [
    "pixel_edge_length = 15 #microns\n",
    "pixel_half_length = (pixel_edge_length / 2)\n",
    "number_of_pixels = 500\n",
    "number_of_pixel_x = 500\n",
    "number_of_pixel_y = 500\n",
    "electrons_per_photon = 1500 #electrons\n",
    "#center of each pixel can be calculated by multiplying it's i or j value by 15 and adding 7.5\n",
    "def bottom_left_of_pixel():\n",
    "    pixel_corner_i = i * pixel_edge_length\n",
    "    pixel_corner_j = j * pixel_edge_length"
   ]
  },
  {
   "cell_type": "code",
   "execution_count": 5,
   "metadata": {},
   "outputs": [],
   "source": [
    "#i = the row value of pixel\n",
    "#j = the column value of pixel\n",
    "#horz_d= horizontal distance from bottom left\n",
    "#vert_d= vertical distance from bottom left\n",
    "def center_of_pixel(pixel_edge_length, i, j):\n",
    "    horz_d = (i * pixel_edge_length) + pixel_half_length\n",
    "    vert_d = (j * pixel_edge_length) + pixel_half_length\n",
    "    #print(\"pixel: [\" + str(i) + \", \" + str(j) + \"], center of pixel: [\" + str(horz_d) + \", \" + str(vert_d) + \"] microns.\")\n",
    "for i in range(len(detector_array)):\n",
    "    for j in range(len(detector_array)):\n",
    "        center_of_pixel(pixel_edge_length, i, j)   "
   ]
  },
  {
   "cell_type": "code",
   "execution_count": 6,
   "metadata": {
    "scrolled": true
   },
   "outputs": [
    {
     "name": "stdout",
     "output_type": "stream",
     "text": [
      "photon hit at [x,y] = [1948.6484634095764, 6374.5975333535125] in microns\n"
     ]
    }
   ],
   "source": [
    "import random\n",
    "x_rand = random.random() * pixel_edge_length * number_of_pixels #microns\n",
    "y_rand = random.random() * pixel_edge_length * number_of_pixels #microns\n",
    "print(\"photon hit at [x,y] = [\" + str(x_rand) + \", \" + str(y_rand) + \"] in microns\")"
   ]
  },
  {
   "cell_type": "code",
   "execution_count": 7,
   "metadata": {},
   "outputs": [],
   "source": [
    " #to do: which center of pixel(s) is closest to the random generated values\n",
    "#calculate percentage of cloud in each pixel based on distance from center of multiple pixels\n",
    "#strategy: attempt to make a function to calculate distance from center of circle\n",
    "#to the center of each of the 4 surrounding pixels and \n",
    "#relate that number to the percentage of the circle that overlaps the pixels\n",
    "#x_rand and y_rand is the center point of the circle\n",
    "#sqrt((x2-x1)^2 + (y2-y1)^2)\n",
    "diameter_electron_cloud = 10 #microns\n",
    "radius_electron_cloud = diameter_electron_cloud / 2 #microns\n",
    "area_electron_cloud = np.pi * (radius_electron_cloud ** 2)\n",
    "#take x_rand and y_rand to find closest pixel(s)"
   ]
  },
  {
   "cell_type": "code",
   "execution_count": 8,
   "metadata": {},
   "outputs": [],
   "source": [
    "#define detector_array_x and y\n",
    "detector_array_x = np.arange(500) * pixel_edge_length + pixel_half_length\n",
    "detector_array_y = np.arange(500) * pixel_edge_length + pixel_half_length\n",
    "#remember multiple pixels have the same center value, but this array contains all of those possibilities"
   ]
  },
  {
   "cell_type": "code",
   "execution_count": 13,
   "metadata": {},
   "outputs": [
    {
     "name": "stdout",
     "output_type": "stream",
     "text": [
      "sphere micron position [1948.6484634095764, 6374.5975333535125, 15]\n",
      "sphere pixel position [129.90989756063843, 424.97316889023415]\n"
     ]
    }
   ],
   "source": [
    "#redefining variables to be more precise\n",
    "photon_sphere_x = x_rand #microns\n",
    "photon_sphere_y = y_rand #microns\n",
    "photon_sphere_z= 15\n",
    "photon_sphere_microns = [photon_sphere_x, photon_sphere_y, photon_sphere_z]\n",
    "photon_sphere_pixel = [photon_sphere_x / pixel_edge_length, photon_sphere_y / pixel_edge_length]\n",
    "print(\"sphere micron position \" + str(photon_sphere_microns))\n",
    "print(\"sphere pixel position \" + str(photon_sphere_pixel))\n"
   ]
  },
  {
   "cell_type": "code",
   "execution_count": 14,
   "metadata": {},
   "outputs": [
    {
     "name": "stdout",
     "output_type": "stream",
     "text": [
      "closest pixel to sphere: [129, 424]\n",
      "closest pixel's center in microns: [1942.5, 6367.5]\n"
     ]
    }
   ],
   "source": [
    "closest_pixel_x = (np.where(np.abs(detector_array_x - photon_sphere_x) == np.min(np.abs(detector_array_x - photon_sphere_x))))[0]\n",
    "closest_pixel_x [0]\n",
    "closest_pixel_x_microns = closest_pixel_x [0] * pixel_edge_length + pixel_half_length\n",
    "closest_pixel_y = (np.where(np.abs(detector_array_y - photon_sphere_y) == np.min(np.abs(detector_array_y - photon_sphere_y))))[0]\n",
    "closest_pixel_y [0]\n",
    "closest_pixel_y_microns = closest_pixel_y [0] * pixel_edge_length + pixel_half_length\n",
    "closest_pixel_arr = [closest_pixel_x[0], closest_pixel_y[0]]\n",
    "closest_pixel_microns = [closest_pixel_x_microns, closest_pixel_y_microns]\n",
    "print(\"closest pixel to sphere: \" + str(closest_pixel_arr))\n",
    "print(\"closest pixel's center in microns: \" + str(closest_pixel_microns))"
   ]
  },
  {
   "cell_type": "code",
   "execution_count": 15,
   "metadata": {},
   "outputs": [
    {
     "name": "stdout",
     "output_type": "stream",
     "text": [
      "distnace in x: 6.1484634095763795 microns, distance in y: 7.097533353512517 microns\n",
      "total distance from center of sphere to center of pixel: 9.390345148242542 microns\n"
     ]
    }
   ],
   "source": [
    "#measure the distance from closest_pixel_microns to photon_sphere_microns in x and y directions\n",
    "#all variables here are measured in microns\n",
    "dist_sphere_pixel_x = np.abs(closest_pixel_x_microns - photon_sphere_x)\n",
    "dist_sphere_pixel_y = np.abs(closest_pixel_y_microns - photon_sphere_y)\n",
    "total_dist_sphere_pixel = np.sqrt((dist_sphere_pixel_x ** 2) + (dist_sphere_pixel_y ** 2))\n",
    "print(\"distnace in x: \" + str(dist_sphere_pixel_x) + \" microns, \" + \"distance in y: \" + str(dist_sphere_pixel_y) + \" microns\")\n",
    "print(\"total distance from center of sphere to center of pixel: \" + str(total_dist_sphere_pixel) + \" microns\")"
   ]
  },
  {
   "cell_type": "code",
   "execution_count": 12,
   "metadata": {
    "scrolled": true
   },
   "outputs": [
    {
     "ename": "SyntaxError",
     "evalue": "invalid syntax (<ipython-input-12-0b766b217fa3>, line 13)",
     "output_type": "error",
     "traceback": [
      "\u001b[0;36m  File \u001b[0;32m\"<ipython-input-12-0b766b217fa3>\"\u001b[0;36m, line \u001b[0;32m13\u001b[0m\n\u001b[0;31m    else (dist_sphere_pixel_y >= max_dist_from_center and dist_sphere_pixel_x >= max_dist_from_center):\u001b[0m\n\u001b[0m         ^\u001b[0m\n\u001b[0;31mSyntaxError\u001b[0m\u001b[0;31m:\u001b[0m invalid syntax\n"
     ]
    }
   ],
   "source": [
    "#use distance values and write a if, ifelse etc statement to solve for when the circle is:\n",
    "#contained within the pixel, intersected by one line (in y or x), or  intersected by 2 lines (in y and x)\n",
    "electrons_per_photon = 1500 #electrons\n",
    "max_dist_from_center = (pixel_edge_length - diameter_electron_cloud) / 2\n",
    "if (dist_sphere_pixel_x < max_dist_from_center and dist_sphere_pixel_y < max_dist_from_center):\n",
    "    print('photon contained within pixel ' + str(closest_pixel_arr))\n",
    "    detector_array [closest_pixel_x, closest_pixel_y] = electrons_per_photon\n",
    "elif (dist_sphere_pixel_x >= max_dist_from_center and dist_sphere_pixel_y < max_dist_from_center):\n",
    "    print('photon bisected by vertical line')\n",
    "#vertical line means we need to use the x distance to find the are or % of sphere that spills into next pixel\n",
    "elif (dist_sphere_pixel_y >= max_dist_from_center and dist_sphere_pixel_x < max_dist_from_center):\n",
    "    print('photon bisected by horizontal line')\n",
    "else (dist_sphere_pixel_y >= max_dist_from_center and dist_sphere_pixel_x >= max_dist_from_center):\n",
    "    \n",
    "    \n"
   ]
  },
  {
   "cell_type": "code",
   "execution_count": 45,
   "metadata": {},
   "outputs": [],
   "source": [
    "sm_pixel_edge_length = .1 #microns\n",
    "sm_pixel_half_length = sm_pixel_edge_length/2 #microns\n",
    "sm_number_of_pixels = 300\n",
    "sm_array=np.zeros((sm_number_of_pixels,sm_number_of_pixels,sm_number_of_pixels))\n",
    "sm_x_cen = np.arange(sm_number_of_pixels)*sm_pixel_edge_length+(detector_array_x[closest_pixel_x]-pixel_half_length) + sm_pixel_edge_length\n",
    "sm_y_cen = np.arange(sm_number_of_pixels)*sm_pixel_edge_length+(detector_array_y[closest_pixel_y]-pixel_half_length) + sm_pixel_edge_length   "
   ]
  },
  {
   "cell_type": "markdown",
   "metadata": {},
   "source": [
    "sm_x_cen"
   ]
  },
  {
   "cell_type": "code",
   "execution_count": 46,
   "metadata": {},
   "outputs": [
    {
     "data": {
      "text/plain": [
       "array([1935.1, 1935.2, 1935.3, 1935.4, 1935.5, 1935.6, 1935.7, 1935.8,\n",
       "       1935.9, 1936. , 1936.1, 1936.2, 1936.3, 1936.4, 1936.5, 1936.6,\n",
       "       1936.7, 1936.8, 1936.9, 1937. , 1937.1, 1937.2, 1937.3, 1937.4,\n",
       "       1937.5, 1937.6, 1937.7, 1937.8, 1937.9, 1938. , 1938.1, 1938.2,\n",
       "       1938.3, 1938.4, 1938.5, 1938.6, 1938.7, 1938.8, 1938.9, 1939. ,\n",
       "       1939.1, 1939.2, 1939.3, 1939.4, 1939.5, 1939.6, 1939.7, 1939.8,\n",
       "       1939.9, 1940. , 1940.1, 1940.2, 1940.3, 1940.4, 1940.5, 1940.6,\n",
       "       1940.7, 1940.8, 1940.9, 1941. , 1941.1, 1941.2, 1941.3, 1941.4,\n",
       "       1941.5, 1941.6, 1941.7, 1941.8, 1941.9, 1942. , 1942.1, 1942.2,\n",
       "       1942.3, 1942.4, 1942.5, 1942.6, 1942.7, 1942.8, 1942.9, 1943. ,\n",
       "       1943.1, 1943.2, 1943.3, 1943.4, 1943.5, 1943.6, 1943.7, 1943.8,\n",
       "       1943.9, 1944. , 1944.1, 1944.2, 1944.3, 1944.4, 1944.5, 1944.6,\n",
       "       1944.7, 1944.8, 1944.9, 1945. , 1945.1, 1945.2, 1945.3, 1945.4,\n",
       "       1945.5, 1945.6, 1945.7, 1945.8, 1945.9, 1946. , 1946.1, 1946.2,\n",
       "       1946.3, 1946.4, 1946.5, 1946.6, 1946.7, 1946.8, 1946.9, 1947. ,\n",
       "       1947.1, 1947.2, 1947.3, 1947.4, 1947.5, 1947.6, 1947.7, 1947.8,\n",
       "       1947.9, 1948. , 1948.1, 1948.2, 1948.3, 1948.4, 1948.5, 1948.6,\n",
       "       1948.7, 1948.8, 1948.9, 1949. , 1949.1, 1949.2, 1949.3, 1949.4,\n",
       "       1949.5, 1949.6, 1949.7, 1949.8, 1949.9, 1950. , 1950.1, 1950.2,\n",
       "       1950.3, 1950.4, 1950.5, 1950.6, 1950.7, 1950.8, 1950.9, 1951. ,\n",
       "       1951.1, 1951.2, 1951.3, 1951.4, 1951.5, 1951.6, 1951.7, 1951.8,\n",
       "       1951.9, 1952. , 1952.1, 1952.2, 1952.3, 1952.4, 1952.5, 1952.6,\n",
       "       1952.7, 1952.8, 1952.9, 1953. , 1953.1, 1953.2, 1953.3, 1953.4,\n",
       "       1953.5, 1953.6, 1953.7, 1953.8, 1953.9, 1954. , 1954.1, 1954.2,\n",
       "       1954.3, 1954.4, 1954.5, 1954.6, 1954.7, 1954.8, 1954.9, 1955. ,\n",
       "       1955.1, 1955.2, 1955.3, 1955.4, 1955.5, 1955.6, 1955.7, 1955.8,\n",
       "       1955.9, 1956. , 1956.1, 1956.2, 1956.3, 1956.4, 1956.5, 1956.6,\n",
       "       1956.7, 1956.8, 1956.9, 1957. , 1957.1, 1957.2, 1957.3, 1957.4,\n",
       "       1957.5, 1957.6, 1957.7, 1957.8, 1957.9, 1958. , 1958.1, 1958.2,\n",
       "       1958.3, 1958.4, 1958.5, 1958.6, 1958.7, 1958.8, 1958.9, 1959. ,\n",
       "       1959.1, 1959.2, 1959.3, 1959.4, 1959.5, 1959.6, 1959.7, 1959.8,\n",
       "       1959.9, 1960. , 1960.1, 1960.2, 1960.3, 1960.4, 1960.5, 1960.6,\n",
       "       1960.7, 1960.8, 1960.9, 1961. , 1961.1, 1961.2, 1961.3, 1961.4,\n",
       "       1961.5, 1961.6, 1961.7, 1961.8, 1961.9, 1962. , 1962.1, 1962.2,\n",
       "       1962.3, 1962.4, 1962.5, 1962.6, 1962.7, 1962.8, 1962.9, 1963. ,\n",
       "       1963.1, 1963.2, 1963.3, 1963.4, 1963.5, 1963.6, 1963.7, 1963.8,\n",
       "       1963.9, 1964. , 1964.1, 1964.2, 1964.3, 1964.4, 1964.5, 1964.6,\n",
       "       1964.7, 1964.8, 1964.9, 1965. ])"
      ]
     },
     "execution_count": 46,
     "metadata": {},
     "output_type": "execute_result"
    }
   ],
   "source": [
    "sm_x_cen"
   ]
  },
  {
   "cell_type": "code",
   "execution_count": 29,
   "metadata": {},
   "outputs": [
    {
     "data": {
      "text/plain": [
       "array([1942.5])"
      ]
     },
     "execution_count": 29,
     "metadata": {},
     "output_type": "execute_result"
    }
   ],
   "source": [
    "detector_array_x[closest_pixel_x]"
   ]
  },
  {
   "cell_type": "code",
   "execution_count": 30,
   "metadata": {},
   "outputs": [
    {
     "data": {
      "text/plain": [
       "array([6361., 6362., 6363., 6364., 6365., 6366., 6367., 6368., 6369.,\n",
       "       6370., 6371., 6372., 6373., 6374., 6375., 6376., 6377., 6378.,\n",
       "       6379., 6380., 6381., 6382., 6383., 6384., 6385., 6386., 6387.,\n",
       "       6388., 6389., 6390.])"
      ]
     },
     "execution_count": 30,
     "metadata": {},
     "output_type": "execute_result"
    }
   ],
   "source": [
    "sm_y_cen"
   ]
  },
  {
   "cell_type": "code",
   "execution_count": 47,
   "metadata": {},
   "outputs": [],
   "source": [
    "sm_z_cen = np.arange(sm_number_of_pixels)*sm_pixel_edge_length"
   ]
  },
  {
   "cell_type": "code",
   "execution_count": 48,
   "metadata": {},
   "outputs": [],
   "source": [
    "for i in range(sm_number_of_pixels):\n",
    "    for j in range(sm_number_of_pixels):\n",
    "        for k in range(sm_number_of_pixels):\n",
    "            distance_to_center_of_photon = np.sqrt((sm_x_cen[i]-photon_sphere_x)**2 + \\\n",
    "                                                (sm_y_cen[j]-photon_sphere_y)**2 + \\\n",
    "                                                (sm_z_cen[k]-photon_sphere_z)**2)\n",
    "            if distance_to_center_of_photon < diameter_electron_cloud/2:\n",
    "                sm_array[i,j,k] = 1."
   ]
  },
  {
   "cell_type": "code",
   "execution_count": 33,
   "metadata": {},
   "outputs": [],
   "source": [
    "%matplotlib inline"
   ]
  },
  {
   "cell_type": "code",
   "execution_count": 34,
   "metadata": {},
   "outputs": [],
   "source": [
    "import matplotlib.pyplot as plt\n",
    "import matplotlib.image as mpimg"
   ]
  },
  {
   "cell_type": "code",
   "execution_count": 50,
   "metadata": {},
   "outputs": [
    {
     "data": {
      "image/png": "[encoded data removed]",
      "text/plain": [
       "<Figure size 432x288 with 1 Axes>"
      ]
     },
     "metadata": {
      "needs_background": "light"
     },
     "output_type": "display_data"
    }
   ],
   "source": [
    "img = np.sum(sm_array,axis=2)\n",
    "imgplot = plt.imshow(img)"
   ]
  },
  {
   "cell_type": "code",
   "execution_count": 51,
   "metadata": {},
   "outputs": [
    {
     "data": {
      "text/plain": [
       "523526.0"
      ]
     },
     "execution_count": 51,
     "metadata": {},
     "output_type": "execute_result"
    }
   ],
   "source": [
    "np.sum(img)\n",
    "\n"
   ]
  },
  {
   "cell_type": "code",
   "execution_count": 39,
   "metadata": {},
   "outputs": [],
   "source": [
    "percent_in_first_pixel = np.sum(img[0:14,0:14])/np.sum(img)"
   ]
  },
  {
   "cell_type": "code",
   "execution_count": 40,
   "metadata": {},
   "outputs": [
    {
     "data": {
      "text/plain": [
       "0.4781783681214421"
      ]
     },
     "execution_count": 40,
     "metadata": {},
     "output_type": "execute_result"
    }
   ],
   "source": [
    "percent_in_first_pixel\n"
   ]
  },
  {
   "cell_type": "code",
   "execution_count": 44,
   "metadata": {},
   "outputs": [],
   "source": [
    "detector_array[closest_pixel_x,closest_pixel_y]+= percent_in_first_pixel*electrons_per_photon"
   ]
  },
  {
   "cell_type": "code",
   "execution_count": null,
   "metadata": {},
   "outputs": [],
   "source": []
  }
 ],
 "metadata": {
  "kernelspec": {
   "display_name": "Python 3",
   "language": "python",
   "name": "python3"
  },
  "language_info": {
   "codemirror_mode": {
    "name": "ipython",
    "version": 3
   },
   "file_extension": ".py",
   "mimetype": "text/x-python",
   "name": "python",
   "nbconvert_exporter": "python",
   "pygments_lexer": "ipython3",
   "version": "3.7.3"
  }
 },
 "nbformat": 4,
 "nbformat_minor": 4
}
