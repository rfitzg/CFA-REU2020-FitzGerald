{
 "cells": [
  {
   "cell_type": "code",
   "execution_count": 1,
   "metadata": {},
   "outputs": [],
   "source": [
    "#all imports\n",
    "import numpy as np\n",
    "import random\n",
    "%matplotlib inline\n",
    "import matplotlib.pyplot as plt\n",
    "import matplotlib.image as mpimg\n",
    "import math"
   ]
  },
  {
   "cell_type": "code",
   "execution_count": 2,
   "metadata": {},
   "outputs": [],
   "source": [
    "#variables declared here:\n",
    "pix_edge_l = 30 #microns\n",
    "pix_half_l = pix_edge_l / 2\n",
    "num_pix_x = 20\n",
    "num_pix_y = 20\n",
    "e_per_photon = 1500 #electrons\n",
    "subpix_edge_l = 1 #microns #this number just determines the img quality \n",
    "#subpix size tells the program how exact we want our calculations. how many pieces of the pixel are we accounting for \n",
    "#similar to integration by parts\n",
    "e_cloud = 50 #microns diameter\n",
    "gain = 2 #electrons/DN"
   ]
  },
  {
   "cell_type": "code",
   "execution_count": 3,
   "metadata": {},
   "outputs": [],
   "source": [
    "#index:\n",
    "#pix = pixel\n",
    "#e = electron\n",
    "#l = length\n",
    "#num = number (of)\n",
    "#pct = percent\n",
    "#arr = array\n",
    "#dist = distance"
   ]
  },
  {
   "cell_type": "code",
   "execution_count": 4,
   "metadata": {},
   "outputs": [],
   "source": [
    "#array for edge values\n",
    "#edge_pix_arr (+1)\n",
    "#calc edges for big array and subarray"
   ]
  },
  {
   "cell_type": "code",
   "execution_count": 5,
   "metadata": {},
   "outputs": [],
   "source": [
    "#defining initial array representation of detector\n",
    "detector_arr = np.zeros((num_pix_x, num_pix_y))\n",
    "detector_arr_x = np.arange(num_pix_x) * pix_edge_l + pix_half_l\n",
    "detector_arr_y = np.arange(num_pix_y) * pix_edge_l + pix_half_l\n",
    "cen_x = np.arange(num_pix_x) * pix_edge_l + pix_half_l\n",
    "cen_y = np.arange(num_pix_y) * pix_edge_l + pix_half_l\n",
    "edge_x = np.arange(num_pix_x + 1) * pix_edge_l\n",
    "edge_y = np.arange(num_pix_y + 1) * pix_edge_l"
   ]
  },
  {
   "cell_type": "code",
   "execution_count": 10,
   "metadata": {},
   "outputs": [
    {
     "name": "stdout",
     "output_type": "stream",
     "text": [
      "photon hit at [x,y,z] = [807.0697652783335, 432.69804767249997, 25] microns\n"
     ]
    }
   ],
   "source": [
    "#finding random x & y point\n",
    "#if its too close to val find a different\n",
    "#go from rand # to putting photon in array and LOOP 2 or 5 \n",
    "#this is in the loop\n",
    "photon_x = random.random() * pix_edge_l * num_pix_x #microns\n",
    "photon_y = random.random() * pix_edge_l * num_pix_y #microns\n",
    "photon_z = int(e_cloud/2) #microns\n",
    "print(\"photon hit at [x,y,z] = [\" + str(photon_x) + \", \" + str(photon_y) + \", \" + str(photon_z) + \"] microns\")"
   ]
  },
  {
   "cell_type": "code",
   "execution_count": 11,
   "metadata": {},
   "outputs": [
    {
     "name": "stdout",
     "output_type": "stream",
     "text": [
      "closest pixel to sphere: [26, 14]\n",
      "closest pixel's center in microns: [795.0, 435.0]\n"
     ]
    }
   ],
   "source": [
    "#finding closest pixel to random x & y\n",
    "#this inside loop\n",
    "closest_pix_x = (np.where(np.abs(detector_arr_x - photon_x) == np.min(np.abs(detector_arr_x - photon_x))))[0]\n",
    "closest_pix_x = closest_pix_x[0]\n",
    "closest_pix_x_microns = closest_pix_x * pix_edge_l + pix_half_l\n",
    "closest_pix_y = (np.where(np.abs(detector_arr_y - photon_y) == np.min(np.abs(detector_arr_y - photon_y))))[0]\n",
    "closest_pix_y = closest_pix_y[0]\n",
    "closest_pix_y_microns = closest_pix_y * pix_edge_l + pix_half_l\n",
    "closest_pix_arr = [closest_pix_x, closest_pix_y]\n",
    "closest_pix_microns = [closest_pix_x_microns, closest_pix_y_microns]\n",
    "print(\"closest pixel to sphere: \" + str(closest_pix_arr))\n",
    "print(\"closest pixel's center in microns: \" + str(closest_pix_microns))"
   ]
  },
  {
   "cell_type": "code",
   "execution_count": 12,
   "metadata": {},
   "outputs": [
    {
     "name": "stdout",
     "output_type": "stream",
     "text": [
      "5\n"
     ]
    }
   ],
   "source": [
    "#basically max num of pixels needed use % and make solution odd\n",
    "#num_pix_img wants to be odd and calculated based on diameter of cloud and size of pixel\n",
    "#we used += 3 and 2 to make sure there was an extra \"layer\" of pixels surrounding in case of accidental overlap\n",
    "num_pix_img = math.ceil(e_cloud / pix_edge_l)\n",
    "if num_pix_img % 2 == 0:\n",
    "    num_pix_img += 3\n",
    "else:\n",
    "    num_pix_img += 2\n",
    "print(num_pix_img)"
   ]
  },
  {
   "cell_type": "code",
   "execution_count": 13,
   "metadata": {
    "scrolled": true
   },
   "outputs": [],
   "source": [
    "#setting up for numerical integration\n",
    "#subpix_edge_l is declared in the variable section [ln 2]\n",
    "#why do we need -1)/2)?\n",
    "start_pix = int((num_pix_img - 1) / 2)\n",
    "\n",
    "#num_subpix is the number in x & y (rows and columns) they are always equal because the photon will always be a circle\n",
    "num_subpix = num_subpix_x = num_subpix_y = round((pix_edge_l * num_pix_img) / subpix_edge_l)\n",
    "num_subpix_z = photon_z * 2 #*** will need to be fixed/removed later\n",
    "\n",
    "subpix_arr = np.zeros((num_subpix_x, num_subpix_y, num_subpix_z))\n",
    "#check if over the edge when we loop over photons\n",
    "#why is this the proper math?\n",
    "#ask where the 3D photon is defined/ generated? why is it sometimes messed up??\n",
    "subpix_x_cen = np.arange(num_subpix_x) * subpix_edge_l + (detector_arr_x[closest_pix_x - start_pix] - pix_half_l) + subpix_edge_l\n",
    "subpix_y_cen = np.arange(num_subpix_y) * subpix_edge_l + (detector_arr_y[closest_pix_y - start_pix] - pix_half_l) + subpix_edge_l  \n",
    "subpix_z_cen = np.arange(num_subpix_z) * subpix_edge_l"
   ]
  },
  {
   "cell_type": "code",
   "execution_count": 14,
   "metadata": {},
   "outputs": [],
   "source": [
    "#for loop to find subpix array to plot the magnified part of the detector (where the photon hit)\n",
    "#integration here (only want to integrate in z)\n",
    "for i in range(num_subpix_x):\n",
    "    for j in range(num_subpix_y):\n",
    "        for k in range(num_subpix_z):\n",
    "            dist_cen_photon = np.sqrt((subpix_x_cen[i] - photon_x)**2 + \\\n",
    "                                                (subpix_y_cen[j] - photon_y)**2 + \\\n",
    "                                                (subpix_z_cen[k] - photon_z)**2)\n",
    "#the entire electron will be contained within a pixel if the distance from center of photon is less than half the e_cloud diameter\n",
    "            if dist_cen_photon < e_cloud / 2:\n",
    "                subpix_arr[i,j,k] = 1"
   ]
  },
  {
   "cell_type": "code",
   "execution_count": 42,
   "metadata": {},
   "outputs": [
    {
     "data": {
      "image/png": "[encoded data removed]",
      "text/plain": [
       "<Figure size 432x288 with 2 Axes>"
      ]
     },
     "metadata": {
      "needs_background": "light"
     },
     "output_type": "display_data"
    }
   ],
   "source": [
    "#imgplot is a zoomed in 2D visualization of a 3D photon hitting the sensor\n",
    "#this cell is making the imshow graph/ image\n",
    "#img = is the integration\n",
    "img = np.sum(subpix_arr, axis=2)\n",
    "imgplot = plt.imshow(img)\n",
    "plt.grid(True)\n",
    "plt.axis([0, num_subpix_x, 0, num_subpix_y])\n",
    "#subpix size tells the program how exact we want our calculations. how many pieces of the pixel are we accounting for\n",
    "#*** shows 90 as past the boarder. also check the subpix defined edges, why not just full pixels?\n",
    "plt.title('Magnified detector showing where photon hit')\n",
    "plt.xlabel('number of subpixels')\n",
    "plt.ylabel('number of subpixels')\n",
    "plt.colorbar()\n",
    "plt.axis(aspect = 'img')\n",
    "ax = plt.gca()\n",
    "ax.set_xticks(np.arange(0, num_subpix_x, num_subpix_x / num_pix_img))\n",
    "ax.set_yticks(np.arange(0, num_subpix_y, num_subpix_y / num_pix_img))\n",
    "plt.show()\n",
    "#figure be self explanitory\n",
    "#add legends etc. \n",
    "#voxel = 3D pixel\n",
    "#add dashed lines to show pixel boarder\n"
   ]
  },
  {
   "cell_type": "code",
   "execution_count": 22,
   "metadata": {},
   "outputs": [
    {
     "data": {
      "text/plain": [
       "642713.0"
      ]
     },
     "execution_count": 22,
     "metadata": {},
     "output_type": "execute_result"
    }
   ],
   "source": [
    "np.sum(img)"
   ]
  },
  {
   "cell_type": "code",
   "execution_count": 23,
   "metadata": {},
   "outputs": [],
   "source": [
    "#how to calculate amount in each pixel with varying photon size?\n",
    "#declared another array, but is that moving backwards? how to make these loops work using variable values\n",
    "#try: pct_pix_arr and loop it??\n",
    "#divide the subpix_arr values by num_pix_img\n",
    "#for value inside subpix_arr/num_pix_img"
   ]
  },
  {
   "cell_type": "code",
   "execution_count": 41,
   "metadata": {},
   "outputs": [
    {
     "name": "stdout",
     "output_type": "stream",
     "text": [
      "0.0\n",
      "0.0\n",
      "0.0\n",
      "0.0\n",
      "0.0\n",
      "0.0\n",
      "0.0\n",
      "0.0\n",
      "0.0\n",
      "0.0\n",
      "0.0\n",
      "169.10658412075063\n",
      "1606.0574471031396\n",
      "39.5542022644633\n",
      "0.0\n",
      "0.0\n",
      "94.427839486676\n",
      "1073.0886103128457\n",
      "17.76531671212501\n",
      "0.0\n",
      "0.0\n",
      "0.0\n",
      "0.0\n",
      "0.0\n",
      "0.0\n"
     ]
    }
   ],
   "source": [
    "ii = closest_pix_x\n",
    "jj = closest_pix_y\n",
    "#\"-1 = start_pix\"\n",
    "#make the range related to the size of graph??\n",
    "#why is closestpix-startpix the starting point of range? is th\n",
    "for ii in range(closest_pix_x - start_pix, closest_pix_x + (num_pix_img - start_pix)):\n",
    "    for jj in range(closest_pix_y - start_pix, closest_pix_y + (num_pix_img - start_pix)):\n",
    "        left_edge = edge_x[ii]\n",
    "        #used to be +1 is startpix right var for here? whats best way to make it generic\n",
    "        right_edge = edge_x[ii + 1] \n",
    "        bottom_edge = edge_y[jj]\n",
    "        top_edge = edge_y[jj + 1] \n",
    "        #gives us 1st element to sum over\n",
    "        #>= <= allows us to account for the pixels landing on the edge\n",
    "        match_x0 = np.where (subpix_x_cen >= left_edge)[0][0]\n",
    "        #[0][-1] -1 means take the last numbre of the array\n",
    "        match_x1 = np.where (subpix_x_cen <= right_edge)[0][-1]\n",
    "        match_y0 = np.where (subpix_y_cen >= bottom_edge)[0][0]\n",
    "        match_y1 = np.where (subpix_y_cen <= top_edge)[0][-1]\n",
    "        this_pct = np.sum(img[match_x0:match_x1, match_y0:match_y1]) / np.sum(img)\n",
    "        #with more photons continue to += \n",
    "        detector_arr[ii, jj] += this_pct * e_per_photon\n",
    "        print(detector_arr[ii,jj])"
   ]
  },
  {
   "cell_type": "code",
   "execution_count": 38,
   "metadata": {},
   "outputs": [
    {
     "name": "stdout",
     "output_type": "stream",
     "text": [
      "780\n",
      "810\n",
      "795.0\n",
      "480\n",
      "510\n",
      "599\n",
      "600\n",
      "727.75\n",
      "734.75\n"
     ]
    }
   ],
   "source": [
    "print(edge_x[closest_pix_x])\n",
    "print(edge_x[closest_pix_x +1])\n",
    "print(cen_x[closest_pix_x])\n",
    "print(bottom_edge)\n",
    "print(top_edge)\n",
    "print(match_x1)\n",
    "print(len(subpix_x_cen))\n",
    "print(subpix_x_cen[30])\n",
    "print(subpix_x_cen[58])"
   ]
  },
  {
   "cell_type": "code",
   "execution_count": 39,
   "metadata": {},
   "outputs": [],
   "source": [
    "#LOOP through the different pixels by varying the input\n",
    "#pct_pix1 = np.sum(img[0:int(pix1), 0:int(pix1)]) / np.sum(img)\n",
    "#pct_pix2 = np.sum(img[0:int(pix1), int(pix1):int(pix2)]) / np.sum(img)\n",
    "#pct_pix3 = np.sum(img[0:int(pix1), int(pix2):int(num_subpix)]) / np.sum(img)\n",
    "#pct_pix4 = np.sum(img[int(pix1):int(pix2), 0:int(pix1)]) / np.sum(img)\n",
    "#pct_pix5 = np.sum(img[int(pix1):int(pix2), int(pix1):int(pix2)]) / np.sum(img)\n",
    "#pct_pix6 = np.sum(img[int(pix1):int(pix2), int(pix2):int(num_subpix)]) / np.sum(img)\n",
    "#pct_pix7 = np.sum(img[int(pix2):int(num_subpix), 0:int(pix1)]) / np.sum(img)\n",
    "#pct_pix8 = np.sum(img[int(pix2):int(num_subpix), int(pix1):int(pix2)]) / np.sum(img)\n",
    "#pct_pix9 = np.sum(img[int(pix2):int(num_subpix), int(pix2):int(num_subpix)]) / np.sum(img)"
   ]
  },
  {
   "cell_type": "code",
   "execution_count": 40,
   "metadata": {},
   "outputs": [
    {
     "name": "stdout",
     "output_type": "stream",
     "text": [
      "No rounding error. total number of electrons = 1500\n"
     ]
    }
   ],
   "source": [
    "check_tot_e = np.sum(detector_arr)\n",
    "if (check_tot_e == e_per_photon):\n",
    "    print('No rounding error. total number of electrons = ' + str(e_per_photon))\n",
    "else:\n",
    "    print('***ROUNDING ERROR: total number of electrons is != ' + str(e_per_photon) + \". It is = \" + str(check_tot_e))\n"
   ]
  },
  {
   "cell_type": "code",
   "execution_count": null,
   "metadata": {},
   "outputs": [],
   "source": [
    "#range(start val(opt), end val (req)(up to but not including), incriments (opt)(default = 1))\n",
    "#for pct_pix in range(1, 10):\n"
   ]
  },
  {
   "cell_type": "code",
   "execution_count": null,
   "metadata": {},
   "outputs": [],
   "source": [
    "#LOOP through this print function?? \n",
    "#print(\"% in first pixel: \" + str(pct_pix1 * 100) + \"%\")\n",
    "#print(\"% in second pixel: \" + str(pct_pix2 * 100) + \"%\")\n",
    "#print(\"% in third pixel: \" + str(pct_pix3 * 100) + \"%\")\n",
    "#print(\"% in fourth pixel: \" + str(pct_pix4 * 100) + \"%\")\n",
    "#print(\"% in fifth pixel: \" + str(pct_pix5 * 100) + \"%\")\n",
    "#print(\"% in sixth pixel: \" + str(pct_pix6 * 100) + \"%\")\n",
    "#print(\"% in seventh pixel: \" + str(pct_pix7 * 100) + \"%\")\n",
    "#print(\"% in eigth pixel: \" + str(pct_pix8 * 100) + \"%\")\n",
    "#print(\"% in ninth pixel: \" + str(pct_pix9 * 100) + \"%\")"
   ]
  },
  {
   "cell_type": "code",
   "execution_count": null,
   "metadata": {},
   "outputs": [],
   "source": [
    "#detector_arr[closest_pix_x,closest_pix_y] += pct_pix1 * e_per_photon"
   ]
  },
  {
   "cell_type": "code",
   "execution_count": null,
   "metadata": {},
   "outputs": [],
   "source": [
    "#LOOP?\n",
    "#for e_pix in range(1,10):\n",
    "    #round(e_per_photon * pct_pix)\n",
    "#e_pix1 = round(e_per_photon * pct_pix1)\n",
    "#e_pix2 = round(e_per_photon * pct_pix2)\n",
    "#e_pix3 = round(e_per_photon * pct_pix3)\n",
    "#e_pix4 = round(e_per_photon * pct_pix4)\n",
    "#e_pix5 = round(e_per_photon * pct_pix5)\n",
    "#e_pix6 = round(e_per_photon * pct_pix6)\n",
    "#e_pix7 = round(e_per_photon * pct_pix7)\n",
    "#e_pix8 = round(e_per_photon * pct_pix8)\n",
    "#e_pix9 = round(e_per_photon * pct_pix9)"
   ]
  },
  {
   "cell_type": "code",
   "execution_count": null,
   "metadata": {},
   "outputs": [],
   "source": [
    "#can make if else statement for this, so you don't have to check the zeros\n",
    "print('1. ' + str(detector_arr[closest_pix_x - 1, closest_pix_y - 1]))\n",
    "print('2. ' + str(detector_arr[closest_pix_x, closest_pix_y - 1]))\n",
    "print('3. ' + str(detector_arr[closest_pix_x + 1, closest_pix_y - 1]))\n",
    "print('4. ' + str(detector_arr[closest_pix_x - 1, closest_pix_y]))\n",
    "print('5. ' + str(detector_arr[closest_pix_x, closest_pix_y]))\n",
    "print('6. ' + str(detector_arr[closest_pix_x + 1, closest_pix_y]))\n",
    "print('7. ' + str(detector_arr[closest_pix_x - 1, closest_pix_y + 1]))\n",
    "print('8. ' + str(detector_arr[closest_pix_x, closest_pix_y + 1]))\n",
    "print('9. ' + str(detector_arr[closest_pix_x + 1, closest_pix_y + 1]))"
   ]
  },
  {
   "cell_type": "code",
   "execution_count": null,
   "metadata": {},
   "outputs": [],
   "source": [
    "detector_arr[closest_pix_x - 1, closest_pix_y - 1] += e_pix1\n",
    "detector_arr[closest_pix_x, closest_pix_y - 1] += e_pix2\n",
    "detector_arr[closest_pix_x + 1, closest_pix_y - 1] += e_pix3\n",
    "detector_arr[closest_pix_x - 1, closest_pix_y] += e_pix4\n",
    "detector_arr[closest_pix_x, closest_pix_y] += e_pix5\n",
    "detector_arr[closest_pix_x + 1, closest_pix_y] += e_pix6\n",
    "detector_arr[closest_pix_x - 1, closest_pix_y + 1] += e_pix7\n",
    "detector_arr[closest_pix_x, closest_pix_y + 1] += e_pix8\n",
    "detector_arr[closest_pix_x + 1, closest_pix_y + 1] += e_pix9"
   ]
  },
  {
   "cell_type": "code",
   "execution_count": null,
   "metadata": {},
   "outputs": [],
   "source": [
    "print('1. ' + str(detector_arr[closest_pix_x - 1, closest_pix_y - 1]))\n",
    "print('2. ' + str(detector_arr[closest_pix_x, closest_pix_y - 1]))\n",
    "print('3. ' + str(detector_arr[closest_pix_x + 1, closest_pix_y - 1]))\n",
    "print('4. ' + str(detector_arr[closest_pix_x - 1, closest_pix_y]))\n",
    "print('5. ' + str(detector_arr[closest_pix_x, closest_pix_y]))\n",
    "print('6. ' + str(detector_arr[closest_pix_x + 1, closest_pix_y]))\n",
    "print('7. ' + str(detector_arr[closest_pix_x - 1, closest_pix_y + 1]))\n",
    "print('8. ' + str(detector_arr[closest_pix_x, closest_pix_y + 1]))\n",
    "print('9. ' + str(detector_arr[closest_pix_x + 1, closest_pix_y + 1]))"
   ]
  },
  {
   "cell_type": "code",
   "execution_count": 21,
   "metadata": {},
   "outputs": [
    {
     "name": "stdout",
     "output_type": "stream",
     "text": [
      "***ROUNDING ERROR: total number of electrons is != 1500. It is = 0.0\n"
     ]
    }
   ],
   "source": [
    "#!!! sometimes this \"check\" doesnt work: ask if theres a better numpy function to be precise\n",
    "check_tot_e = np.sum(detector_arr)\n",
    "if (check_tot_e == e_per_photon):\n",
    "    print('No rounding error. total number of electrons = ' + str(e_per_photon))\n",
    "else:\n",
    "    print('***ROUNDING ERROR: total number of electrons is != ' + str(e_per_photon) + \". It is = \" + str(check_tot_e))"
   ]
  },
  {
   "cell_type": "code",
   "execution_count": null,
   "metadata": {},
   "outputs": [],
   "source": [
    "#digitize array using np.digitize\n",
    "#make array values integers\n",
    "#how would you find the gain if you weren't given it?\n",
    "#what kind of errors are introduced?\n",
    "#how many times to measure a single photon to get rid of error?\n",
    "#numpy.digitize(x, bins, right=False(optional))\n",
    "#numpy.histogram(a, bins=10, range=None, normed=None, weights=None, density=None)\n",
    "\n",
    "#assume 2 electrons/DN\n",
    "#gain = (# of electrons per pixel) / (# of counts per pixel)\n",
    "#stdev (photons)  =  sqrt(number of photons)"
   ]
  },
  {
   "cell_type": "code",
   "execution_count": null,
   "metadata": {},
   "outputs": [],
   "source": [
    "#here the data in detector_arr is still float it will become integer when digitized below\n",
    "detector_arr = np.round(detector_arr * (1 / gain))"
   ]
  },
  {
   "cell_type": "code",
   "execution_count": null,
   "metadata": {},
   "outputs": [],
   "source": [
    "#NOTES:\n",
    "#could you figure out, gain? figure out gain if the # of electrons per photon is known and output is known\n",
    "#How well would you know it?  \n",
    "\n",
    "#What kind of errors are introduced by the charge sharing and digitization? \n",
    "        # we already have a rounding error before digitization, but after digitizing it can cause errors \n",
    "        # because we have less information... we only know which pixels are \"on\"\n",
    "#How many times do you need to measure this single photon signal to beat down those errors?\n",
    "\n",
    "#The gain value is set by the electronics that read out the CCD chip. \n",
    "#Gain is expressed in units of electrons per count. \n",
    "#For example, a gain of 1.8 e-/count means that the camera produces 1 count for every 1.8 recorded electrons.\n",
    "#Of course, we cannot split electrons into fractional parts, as in the case for a gain of 1.8 e-/count. \n",
    "#What this number means is that 4/5 of the time 1 count is produced from 2 electrons, and 1/5 of the time 1 count is produced from 1 electron. \n",
    "#This number is an average conversion ratio, based on changing large numbers of electrons into large numbers of counts.\n",
    "#Note: This use of the term \"gain\" is in the opposite sense to the way a circuit designer would use the term since, \n",
    "#in electronic design, gain is considered to be an increase in the number of output units compared with the number of input units."
   ]
  },
  {
   "cell_type": "code",
   "execution_count": null,
   "metadata": {},
   "outputs": [],
   "source": [
    "imgplot = plt.imshow(detector_arr[[closest_pix_x[0] - 5 : closest_pix_x[0] + 5], [closest_pix_y[0] - 5 : closest_pix_y[0] + 5]])"
   ]
  },
  {
   "cell_type": "code",
   "execution_count": null,
   "metadata": {},
   "outputs": [],
   "source": [
    "print(np.max(detector_arr))"
   ]
  },
  {
   "cell_type": "code",
   "execution_count": null,
   "metadata": {},
   "outputs": [],
   "source": [
    "print(np.sum(detector_arr))"
   ]
  },
  {
   "cell_type": "code",
   "execution_count": null,
   "metadata": {},
   "outputs": [],
   "source": [
    "if (np.sum(detector_arr) == 750):\n",
    "    print('no problem')\n",
    "else:\n",
    "    print('error: sum of detector did not result in expected value')"
   ]
  }
 ],
 "metadata": {
  "kernelspec": {
   "display_name": "Python 3",
   "language": "python",
   "name": "python3"
  },
  "language_info": {
   "codemirror_mode": {
    "name": "ipython",
    "version": 3
   },
   "file_extension": ".py",
   "mimetype": "text/x-python",
   "name": "python",
   "nbconvert_exporter": "python",
   "pygments_lexer": "ipython3",
   "version": "3.7.4"
  }
 },
 "nbformat": 4,
 "nbformat_minor": 4
}
