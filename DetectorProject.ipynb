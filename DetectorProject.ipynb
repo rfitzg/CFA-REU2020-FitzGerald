{
 "cells": [
  {
   "cell_type": "code",
   "execution_count": 1,
   "metadata": {},
   "outputs": [],
   "source": [
    "#all imports\n",
    "import numpy as np\n",
    "import random\n",
    "%matplotlib inline\n",
    "import matplotlib.pyplot as plt\n",
    "import matplotlib.image as mpimg"
   ]
  },
  {
   "cell_type": "code",
   "execution_count": 2,
   "metadata": {},
   "outputs": [],
   "source": [
    "#variables declared here:\n",
    "pix_edge_l = 15 #microns\n",
    "pix_half_l = pix_edge_l / 2\n",
    "num_pix_x = 10\n",
    "num_pix_y = 10\n",
    "e_per_photon = 1500 #electrons\n",
    "subpix_edge_l = 1 #microns\n",
    "diameter_e_cloud = 10 #microns\n",
    "gain = 2 #electrons/DN\n",
    "num_pix_img = 3 #this is the desired number of full size pixels that we want represented in the graph"
   ]
  },
  {
   "cell_type": "code",
   "execution_count": 3,
   "metadata": {},
   "outputs": [],
   "source": [
    "#index:\n",
    "#pix = pixel\n",
    "#e = electron\n",
    "#l = length\n",
    "#num = number (of)\n",
    "#pct = percent\n",
    "#arr = array"
   ]
  },
  {
   "cell_type": "code",
   "execution_count": 4,
   "metadata": {},
   "outputs": [],
   "source": [
    "#array for edge values\n",
    "#edge_pix_arr (+1)\n",
    "#calc edges for big array and subarray"
   ]
  },
  {
   "cell_type": "code",
   "execution_count": 5,
   "metadata": {},
   "outputs": [],
   "source": [
    "#defining initial array representation of detector\n",
    "#\n",
    "detector_arr = np.zeros((num_pix_x, num_pix_y))\n",
    "detector_arr_x = np.arange(num_pix_x) * pix_edge_l + pix_half_l\n",
    "detector_arr_y = np.arange(num_pix_y) * pix_edge_l + pix_half_l\n",
    "cen_x = np.arange(num_pix_x) * pix_edge_l + pix_half_l\n",
    "cen_y = np.arange(num_pix_y) * pix_edge_l + pix_half_l\n",
    "#edge_x\n",
    "#edge_y"
   ]
  },
  {
   "cell_type": "code",
   "execution_count": 6,
   "metadata": {},
   "outputs": [
    {
     "name": "stdout",
     "output_type": "stream",
     "text": [
      "photon hit at [x,y] = [49.31217505211465, 139.78241395605406] microns\n"
     ]
    }
   ],
   "source": [
    "#finding random x & y of photon\n",
    "photon_sphere_x = random.random() * pix_edge_l * num_pix_x #microns\n",
    "photon_sphere_y = random.random() * pix_edge_l * num_pix_y #microns\n",
    "photon_sphere_z = 15 #microns\n",
    "print(\"photon hit at [x,y] = [\" + str(photon_sphere_x) + \", \" + str(photon_sphere_y) + \"] microns\")"
   ]
  },
  {
   "cell_type": "code",
   "execution_count": 7,
   "metadata": {},
   "outputs": [
    {
     "name": "stdout",
     "output_type": "stream",
     "text": [
      "closest pixel to sphere: [3, 9]\n",
      "closest pixel's center in microns: [52.5, 142.5]\n"
     ]
    }
   ],
   "source": [
    "#finding closest pixel to random x & y\n",
    "closest_pix_x = (np.where(np.abs(detector_arr_x - photon_sphere_x) == np.min(np.abs(detector_arr_x - photon_sphere_x))))[0]\n",
    "closest_pix_x_microns = closest_pix_x [0] * pix_edge_l + pix_half_l\n",
    "closest_pix_y = (np.where(np.abs(detector_arr_y - photon_sphere_y) == np.min(np.abs(detector_arr_y - photon_sphere_y))))[0]\n",
    "closest_pix_y_microns = closest_pix_y [0] * pix_edge_l + pix_half_l\n",
    "closest_pix_arr = [closest_pix_x[0], closest_pix_y[0]]\n",
    "closest_pix_microns = [closest_pix_x_microns, closest_pix_y_microns]\n",
    "print(\"closest pixel to sphere: \" + str(closest_pix_arr))\n",
    "print(\"closest pixel's center in microns: \" + str(closest_pix_microns))"
   ]
  },
  {
   "cell_type": "code",
   "execution_count": null,
   "metadata": {},
   "outputs": [],
   "source": [
    "#basically max num of pixels needed use % and make solution odd\n",
    "#num_pix_img wants to be odd and calculated based on diameter of cloud and size of pixel \n",
    "#what # max pixels will the photon hit?\n",
    "#mod (%)- remainder when you divide % + 1 if even\n",
    "#diameter/ pixel size +1 check for odd and then add 1\n",
    "num_pix_img = diameter_e_cloud / pix_edge_l"
   ]
  },
  {
   "cell_type": "code",
   "execution_count": 8,
   "metadata": {},
   "outputs": [],
   "source": [
    "#setting up for numerical integration\n",
    "#subpix_edge_l is declared in the variable section [ln 2]\n",
    "#startpix =(tot # pix in graph - 1) / 2\n",
    "subpix_half_l = subpix_edge_l / 2 #microns\n",
    "num_pix_img =  #basically max num of pixels needed use % and make solution odd\n",
    "start_pix = (num_pix_img - 1) / 2\n",
    "#num_subpix is the number in x & y (rows and columns) they are always equal because the photon will always be a circle\n",
    "num_subpix = num_subpix_x = num_subpix_y = round((pix_edge_l * num_pix_img) / subpix_edge_l)\n",
    "num_subpix_z = photon_sphere_z * 2 #*** will need to be fixed/removed later\n",
    "pix1 = num_subpix / 3 #needs to be generic \n",
    "pix2 = num_subpix * (2/3)\n",
    "subpix_arr = np.zeros((num_subpix_x, num_subpix_y, num_subpix_z))\n",
    "#needs to be a caluclated value dependant of size of detector pixels -1\n",
    "subpix_x_cen = np.arange(num_subpix) * subpix_edge_l + (detector_arr_x[closest_pix_x - 1] - pix_half_l) + subpix_edge_l\n",
    "subpix_y_cen = np.arange(num_subpix) * subpix_edge_l + (detector_arr_y[closest_pix_y -1] - pix_half_l) + subpix_edge_l  \n",
    "subpix_z_cen = np.arange(num_subpix) * subpix_edge_l"
   ]
  },
  {
   "cell_type": "code",
   "execution_count": 9,
   "metadata": {},
   "outputs": [
    {
     "data": {
      "text/plain": [
       "45"
      ]
     },
     "execution_count": 9,
     "metadata": {},
     "output_type": "execute_result"
    }
   ],
   "source": [
    "subpix_x_cen\n",
    "subpix_y_cen\n",
    "num_subpix"
   ]
  },
  {
   "cell_type": "code",
   "execution_count": 10,
   "metadata": {},
   "outputs": [],
   "source": [
    "for i in range(num_subpix):\n",
    "    for j in range(num_subpix):\n",
    "        for k in range(num_subpix):\n",
    "            dist_cen_photon = np.sqrt((subpix_x_cen[i]-photon_sphere_x)**2 + \\\n",
    "                                                (subpix_y_cen[j]-photon_sphere_y)**2 + \\\n",
    "                                                (subpix_z_cen[k]-photon_sphere_z)**2)\n",
    "            if dist_cen_photon < diameter_e_cloud / 2:\n",
    "                subpix_arr[i,j,k] = 1."
   ]
  },
  {
   "cell_type": "code",
   "execution_count": 11,
   "metadata": {},
   "outputs": [
    {
     "data": {
      "image/png": "[encoded data removed]",
      "text/plain": [
       "<Figure size 432x288 with 1 Axes>"
      ]
     },
     "metadata": {
      "needs_background": "light"
     },
     "output_type": "display_data"
    }
   ],
   "source": [
    "img = np.sum(subpix_arr, axis=2)\n",
    "imgplot = plt.imshow(img)\n",
    "#figure be self explanitory\n",
    "#add legends etc. \n",
    "#voxel = 3D pixel\n",
    "#add dashed lines to show pixel boarder"
   ]
  },
  {
   "cell_type": "code",
   "execution_count": 12,
   "metadata": {},
   "outputs": [
    {
     "data": {
      "text/plain": [
       "522.0"
      ]
     },
     "execution_count": 12,
     "metadata": {},
     "output_type": "execute_result"
    }
   ],
   "source": [
    "np.sum(img)"
   ]
  },
  {
   "cell_type": "code",
   "execution_count": 13,
   "metadata": {},
   "outputs": [],
   "source": [
    "#LOOP through the different pixels by varying the input\n",
    "pct_pix1 = np.sum(img[0:int(pix1), 0:int(pix1)]) / np.sum(img)\n",
    "pct_pix2 = np.sum(img[0:int(pix1), int(pix1):int(pix2)]) / np.sum(img)\n",
    "pct_pix3 = np.sum(img[0:int(pix1), int(pix2):int(num_subpix)]) / np.sum(img)\n",
    "pct_pix4 = np.sum(img[int(pix1):int(pix2), 0:int(pix1)]) / np.sum(img)\n",
    "pct_pix5 = np.sum(img[int(pix1):int(pix2), int(pix1):int(pix2)]) / np.sum(img)\n",
    "pct_pix6 = np.sum(img[int(pix1):int(pix2), int(pix2):int(num_subpix)]) / np.sum(img)\n",
    "pct_pix7 = np.sum(img[int(pix2):int(num_subpix), 0:int(pix1)]) / np.sum(img)\n",
    "pct_pix8 = np.sum(img[int(pix2):int(num_subpix), int(pix1):int(pix2)]) / np.sum(img)\n",
    "pct_pix9 = np.sum(img[int(pix2):int(num_subpix), int(pix2):int(num_subpix)]) / np.sum(img)"
   ]
  },
  {
   "cell_type": "code",
   "execution_count": 14,
   "metadata": {},
   "outputs": [
    {
     "ename": "SyntaxError",
     "evalue": "unexpected EOF while parsing (<ipython-input-14-9529b61fef39>, line 3)",
     "output_type": "error",
     "traceback": [
      "\u001b[1;36m  File \u001b[1;32m\"<ipython-input-14-9529b61fef39>\"\u001b[1;36m, line \u001b[1;32m3\u001b[0m\n\u001b[1;33m    \u001b[0m\n\u001b[1;37m    ^\u001b[0m\n\u001b[1;31mSyntaxError\u001b[0m\u001b[1;31m:\u001b[0m unexpected EOF while parsing\n"
     ]
    }
   ],
   "source": [
    "#range(start val(opt), end val (req)(up to but not including), incriments (opt)(default = 1))\n",
    "for pct_pix in range(1, 10):\n",
    "    "
   ]
  },
  {
   "cell_type": "code",
   "execution_count": null,
   "metadata": {},
   "outputs": [],
   "source": [
    "#LOOP through this print function?? \n",
    "print(\"% in first pixel: \" + str(pct_pix_1 * 100) + \"%\")\n",
    "print(\"% in second pixel: \" + str(pct_pix_2 * 100) + \"%\")\n",
    "print(\"% in third pixel: \" + str(pct_pix_3 * 100) + \"%\")\n",
    "print(\"% in fourth pixel: \" + str(pct_pix_4 * 100) + \"%\")\n",
    "print(\"% in fifth pixel: \" + str(pct_pix_5 * 100) + \"%\")\n",
    "print(\"% in sixth pixel: \" + str(pct_pix_6 * 100) + \"%\")\n",
    "print(\"% in seventh pixel: \" + str(pct_pix_7 * 100) + \"%\")\n",
    "print(\"% in eigth pixel: \" + str(pct_pix_8 * 100) + \"%\")\n",
    "print(\"% in ninth pixel: \" + str(pct_pix_9 * 100) + \"%\")"
   ]
  },
  {
   "cell_type": "code",
   "execution_count": null,
   "metadata": {},
   "outputs": [],
   "source": [
    "detector_arr[closest_pix_x,closest_pix_y] += percent_pix_1 * e_per_photon"
   ]
  },
  {
   "cell_type": "code",
   "execution_count": null,
   "metadata": {},
   "outputs": [],
   "source": [
    "#LOOP?\n",
    "#for e_pix in range(1,10):\n",
    "    #round(e_per_photon * pct_pix)\n",
    "e_pix_1 = round(e_per_photon * pct_pix_1)\n",
    "e_pix_2 = round(e_per_photon * pct_pix_2)\n",
    "e_pix_3 = round(e_per_photon * pct_pix_3)\n",
    "e_pix_4 = round(e_per_photon * pct_pix_4)\n",
    "e_pix_5 = round(e_per_photon * pct_pix_5)\n",
    "e_pix_6 = round(e_per_photon * pct_pix_6)\n",
    "e_pix_7 = round(e_per_photon * pct_pix_7)\n",
    "e_pix_8 = round(e_per_photon * pct_pix_8)\n",
    "e_pix_9 = round(e_per_photon * pct_pix_9)"
   ]
  },
  {
   "cell_type": "code",
   "execution_count": null,
   "metadata": {},
   "outputs": [],
   "source": [
    "#can make if else statement for this, so you don't have to check the zeros\n",
    "print('1. ' + str(detector_arr[closest_pix_x - 1, closest_pix_y - 1]))\n",
    "print('2. ' + str(detector_arr[closest_pix_x, closest_pix_y - 1]))\n",
    "print('3. ' + str(detector_arr[closest_pix_x + 1, closest_pix_y - 1]))\n",
    "print('4. ' + str(detector_arr[closest_pix_x - 1, closest_pix_y]))\n",
    "print('5. ' + str(detector_arr[closest_pix_x, closest_pix_y]))\n",
    "print('6. ' + str(detector_arr[closest_pix_x + 1, closest_pix_y]))\n",
    "print('7. ' + str(detector_arr[closest_pix_x - 1, closest_pix_y + 1]))\n",
    "print('8. ' + str(detector_arr[closest_pix_x, closest_pix_y + 1]))\n",
    "print('9. ' + str(detector_arr[closest_pix_x + 1, closest_pix_y + 1]))"
   ]
  },
  {
   "cell_type": "code",
   "execution_count": null,
   "metadata": {},
   "outputs": [],
   "source": [
    "detector_arr[closest_pix_x - 1, closest_pix_y - 1] += e_pix1\n",
    "detector_arr[closest_pix_x, closest_pix_y - 1] += e_pix2\n",
    "detector_arr[closest_pix_x + 1, closest_pix_y - 1] += e_pix3\n",
    "detector_arr[closest_pix_x - 1, closest_pix_y] += e_pix4\n",
    "detector_arr[closest_pix_x, closest_pix_y] += e_pix5\n",
    "detector_arr[closest_pix_x + 1, closest_pix_y] += e_pix6\n",
    "detector_arr[closest_pix_x - 1, closest_pix_y + 1] += e_pix7\n",
    "detector_arr[closest_pix_x, closest_pix_y + 1] += e_pix8\n",
    "detector_arr[closest_pix_x + 1, closest_pix_y + 1] += e_pix9"
   ]
  },
  {
   "cell_type": "code",
   "execution_count": null,
   "metadata": {},
   "outputs": [],
   "source": [
    "print('1. ' + str(detector_arr[closest_pix_x - 1, closest_pix_y - 1]))\n",
    "print('2. ' + str(detector_arr[closest_pix_x, closest_pix_y - 1]))\n",
    "print('3. ' + str(detector_arr[closest_pix_x + 1, closest_pix_y - 1]))\n",
    "print('4. ' + str(detector_arr[closest_pix_x - 1, closest_pix_y]))\n",
    "print('5. ' + str(detector_arr[closest_pix_x, closest_pix_y]))\n",
    "print('6. ' + str(detector_arr[closest_pix_x + 1, closest_pix_y]))\n",
    "print('7. ' + str(detector_arr[closest_pix_x - 1, closest_pix_y + 1]))\n",
    "print('8. ' + str(detector_arr[closest_pix_x, closest_pix_y + 1]))\n",
    "print('9. ' + str(detector_arr[closest_pix_x + 1, closest_pix_y + 1]))"
   ]
  },
  {
   "cell_type": "code",
   "execution_count": null,
   "metadata": {},
   "outputs": [],
   "source": [
    "#!!! sometimes this \"check\" doesnt work: ask if theres a better numpy function to be precise\n",
    "check_tot_e = np.sum(detector_arr)\n",
    "if (check_tot_e == e_per_photon):\n",
    "    print('No rounding error. total number of electrons = ' + str(e_per_photon))\n",
    "else:\n",
    "    print('***ROUNDING ERROR: total number of electrons is != ' + str(e_per_photon) + \". It is = \" + str(check_tot_e))"
   ]
  },
  {
   "cell_type": "code",
   "execution_count": null,
   "metadata": {},
   "outputs": [],
   "source": [
    "#digitize array using np.digitize\n",
    "#make array values integers\n",
    "#how would you find the gain if you weren't given it?\n",
    "#what kind of errors are introduced?\n",
    "#how many times to measure a single photon to get rid of error?\n",
    "#numpy.digitize(x, bins, right=False(optional))\n",
    "#numpy.histogram(a, bins=10, range=None, normed=None, weights=None, density=None)\n",
    "\n",
    "#assume 2 electrons/DN\n",
    "#gain = (# of electrons per pixel) / (# of counts per pixel)\n",
    "#stdev (photons)  =  sqrt(number of photons)"
   ]
  },
  {
   "cell_type": "code",
   "execution_count": null,
   "metadata": {},
   "outputs": [],
   "source": [
    "#here the data in detector_arr is still float it will become integer when digitized below\n",
    "detector_arr = np.round(detector_arr * (1 / gain))"
   ]
  },
  {
   "cell_type": "code",
   "execution_count": null,
   "metadata": {},
   "outputs": [],
   "source": [
    "#NOTES:\n",
    "#could you figure out, gain? figure out gain if the # of electrons per photon is known and output is known\n",
    "#How well would you know it?  \n",
    "\n",
    "#What kind of errors are introduced by the charge sharing and digitization? \n",
    "        # we already have a rounding error before digitization, but after digitizing it can cause errors \n",
    "        # because we have less information... we only know which pixels are \"on\"\n",
    "#How many times do you need to measure this single photon signal to beat down those errors?\n",
    "\n",
    "#The gain value is set by the electronics that read out the CCD chip. \n",
    "#Gain is expressed in units of electrons per count. \n",
    "#For example, a gain of 1.8 e-/count means that the camera produces 1 count for every 1.8 recorded electrons.\n",
    "#Of course, we cannot split electrons into fractional parts, as in the case for a gain of 1.8 e-/count. \n",
    "#What this number means is that 4/5 of the time 1 count is produced from 2 electrons, and 1/5 of the time 1 count is produced from 1 electron. \n",
    "#This number is an average conversion ratio, based on changing large numbers of electrons into large numbers of counts.\n",
    "#Note: This use of the term \"gain\" is in the opposite sense to the way a circuit designer would use the term since, \n",
    "#in electronic design, gain is considered to be an increase in the number of output units compared with the number of input units."
   ]
  },
  {
   "cell_type": "code",
   "execution_count": null,
   "metadata": {},
   "outputs": [],
   "source": [
    "imgplot = plt.imshow(detector_arr[int(closest_pix_x[0]-5):int(closest_pix_x[0] + 5), int(closest_pix_y[0]) - 5:closest_pix_y[0] + 5])"
   ]
  },
  {
   "cell_type": "code",
   "execution_count": null,
   "metadata": {},
   "outputs": [],
   "source": [
    "print(np.max(detector_arr))"
   ]
  },
  {
   "cell_type": "code",
   "execution_count": null,
   "metadata": {},
   "outputs": [],
   "source": [
    "print(np.sum(detector_arr))"
   ]
  },
  {
   "cell_type": "code",
   "execution_count": null,
   "metadata": {},
   "outputs": [],
   "source": [
    "if (np.sum(detector_arr) == 750):\n",
    "    print('no problem')\n",
    "else:\n",
    "    print('error: sum of detector did not result in expected value')"
   ]
  },
  {
   "cell_type": "code",
   "execution_count": null,
   "metadata": {},
   "outputs": [],
   "source": []
  }
 ],
 "metadata": {
  "kernelspec": {
   "display_name": "Python 3",
   "language": "python",
   "name": "python3"
  },
  "language_info": {
   "codemirror_mode": {
    "name": "ipython",
    "version": 3
   },
   "file_extension": ".py",
   "mimetype": "text/x-python",
   "name": "python",
   "nbconvert_exporter": "python",
   "pygments_lexer": "ipython3",
   "version": "3.7.4"
  }
 },
 "nbformat": 4,
 "nbformat_minor": 4
}
